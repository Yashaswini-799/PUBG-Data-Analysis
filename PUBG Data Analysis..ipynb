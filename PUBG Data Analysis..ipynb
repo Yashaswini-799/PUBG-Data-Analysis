{
 "cells": [
  {
   "cell_type": "markdown",
   "metadata": {},
   "source": [
    "### Step1 - Data Description and Objective.\n",
    "- In a PUBG game, up to 100 players start in each match (matchId). Players can be on teams (groupId) which get ranked at the end of the game (winPlacePerc) based on how many other teams are still alive when they are eliminated. \n",
    "- In game, players can pick up different munitions, revive downed-but-not-out (knocked) teammates, drive vehicles, swim, run, shoot, and experience all of the consequences -- such as falling too far or running themselves over and eliminating themselves.\n",
    "- The data consists matches of all types: solos, duos, squads, and custom; there is no guarantee of there being 100 players per match, nor at most 4 players per group.\n",
    "- `The objective is to create a model which predicts players' finishing placement based on their final stats, on a scale from 1 (first place) to 0 (last place)`."
   ]
  },
  {
   "cell_type": "markdown",
   "metadata": {},
   "source": [
    "### Importing all the necessary libraries."
   ]
  },
  {
   "cell_type": "code",
   "execution_count": 1,
   "metadata": {},
   "outputs": [],
   "source": [
    "import numpy as np\n",
    "import pandas as pd\n",
    "import matplotlib.pyplot as plt\n",
    "%matplotlib inline\n",
    "import seaborn as sns\n",
    "import scipy\n",
    "from scipy import stats\n",
    "from scipy.stats import norm\n",
    "from scipy.stats import uniform"
   ]
  },
  {
   "cell_type": "markdown",
   "metadata": {},
   "source": [
    "### Step2 - Reading .csv file."
   ]
  },
  {
   "cell_type": "code",
   "execution_count": 2,
   "metadata": {},
   "outputs": [],
   "source": [
    "df = pd.read_csv(\"C:\\\\Users\\\\saisr\\\\Downloads\\\\data.csv\")"
   ]
  },
  {
   "cell_type": "markdown",
   "metadata": {},
   "source": [
    "### Step3 - Performing head, shape and description of the dataframe. "
   ]
  },
  {
   "cell_type": "markdown",
   "metadata": {},
   "source": [
    "- Head of the dataframe."
   ]
  },
  {
   "cell_type": "code",
   "execution_count": 3,
   "metadata": {},
   "outputs": [
    {
     "data": {
      "text/html": [
       "<div>\n",
       "<style scoped>\n",
       "    .dataframe tbody tr th:only-of-type {\n",
       "        vertical-align: middle;\n",
       "    }\n",
       "\n",
       "    .dataframe tbody tr th {\n",
       "        vertical-align: top;\n",
       "    }\n",
       "\n",
       "    .dataframe thead th {\n",
       "        text-align: right;\n",
       "    }\n",
       "</style>\n",
       "<table border=\"1\" class=\"dataframe\">\n",
       "  <thead>\n",
       "    <tr style=\"text-align: right;\">\n",
       "      <th></th>\n",
       "      <th>Unnamed: 0</th>\n",
       "      <th>Id</th>\n",
       "      <th>groupId</th>\n",
       "      <th>matchId</th>\n",
       "      <th>assists</th>\n",
       "      <th>boosts</th>\n",
       "      <th>damageDealt</th>\n",
       "      <th>DBNOs</th>\n",
       "      <th>headshotKills</th>\n",
       "      <th>heals</th>\n",
       "      <th>...</th>\n",
       "      <th>revives</th>\n",
       "      <th>rideDistance</th>\n",
       "      <th>roadKills</th>\n",
       "      <th>swimDistance</th>\n",
       "      <th>teamKills</th>\n",
       "      <th>vehicleDestroys</th>\n",
       "      <th>walkDistance</th>\n",
       "      <th>weaponsAcquired</th>\n",
       "      <th>winPoints</th>\n",
       "      <th>winPlacePerc</th>\n",
       "    </tr>\n",
       "  </thead>\n",
       "  <tbody>\n",
       "    <tr>\n",
       "      <th>0</th>\n",
       "      <td>2093518</td>\n",
       "      <td>a3e3cea9f2e314</td>\n",
       "      <td>c9f6eaa81245b5</td>\n",
       "      <td>a3d8693390584c</td>\n",
       "      <td>0</td>\n",
       "      <td>0</td>\n",
       "      <td>25.93</td>\n",
       "      <td>0</td>\n",
       "      <td>0</td>\n",
       "      <td>0</td>\n",
       "      <td>...</td>\n",
       "      <td>0</td>\n",
       "      <td>0.0</td>\n",
       "      <td>0</td>\n",
       "      <td>0.0</td>\n",
       "      <td>0</td>\n",
       "      <td>0</td>\n",
       "      <td>151.30</td>\n",
       "      <td>1</td>\n",
       "      <td>1525</td>\n",
       "      <td>0.0667</td>\n",
       "    </tr>\n",
       "    <tr>\n",
       "      <th>1</th>\n",
       "      <td>3701672</td>\n",
       "      <td>43e4be7ad72cc7</td>\n",
       "      <td>521836de101ee8</td>\n",
       "      <td>b65de9055327e0</td>\n",
       "      <td>0</td>\n",
       "      <td>0</td>\n",
       "      <td>36.71</td>\n",
       "      <td>0</td>\n",
       "      <td>0</td>\n",
       "      <td>0</td>\n",
       "      <td>...</td>\n",
       "      <td>0</td>\n",
       "      <td>0.0</td>\n",
       "      <td>0</td>\n",
       "      <td>0.0</td>\n",
       "      <td>0</td>\n",
       "      <td>0</td>\n",
       "      <td>1918.00</td>\n",
       "      <td>7</td>\n",
       "      <td>1516</td>\n",
       "      <td>0.5862</td>\n",
       "    </tr>\n",
       "    <tr>\n",
       "      <th>2</th>\n",
       "      <td>2059784</td>\n",
       "      <td>9a68690e31fdff</td>\n",
       "      <td>4a72ffa2cebd90</td>\n",
       "      <td>d6aad3f9830e60</td>\n",
       "      <td>0</td>\n",
       "      <td>1</td>\n",
       "      <td>47.73</td>\n",
       "      <td>0</td>\n",
       "      <td>0</td>\n",
       "      <td>0</td>\n",
       "      <td>...</td>\n",
       "      <td>0</td>\n",
       "      <td>4088.0</td>\n",
       "      <td>0</td>\n",
       "      <td>0.0</td>\n",
       "      <td>0</td>\n",
       "      <td>0</td>\n",
       "      <td>820.00</td>\n",
       "      <td>7</td>\n",
       "      <td>0</td>\n",
       "      <td>0.8105</td>\n",
       "    </tr>\n",
       "    <tr>\n",
       "      <th>3</th>\n",
       "      <td>1302036</td>\n",
       "      <td>b147e1bd448fc4</td>\n",
       "      <td>9a8991656b3fea</td>\n",
       "      <td>d931c0932d8aca</td>\n",
       "      <td>0</td>\n",
       "      <td>0</td>\n",
       "      <td>0.00</td>\n",
       "      <td>0</td>\n",
       "      <td>0</td>\n",
       "      <td>0</td>\n",
       "      <td>...</td>\n",
       "      <td>1</td>\n",
       "      <td>0.0</td>\n",
       "      <td>0</td>\n",
       "      <td>0.0</td>\n",
       "      <td>0</td>\n",
       "      <td>0</td>\n",
       "      <td>38.81</td>\n",
       "      <td>0</td>\n",
       "      <td>1515</td>\n",
       "      <td>0.5556</td>\n",
       "    </tr>\n",
       "    <tr>\n",
       "      <th>4</th>\n",
       "      <td>297180</td>\n",
       "      <td>d818b4edd59612</td>\n",
       "      <td>eece87c8b846b3</td>\n",
       "      <td>ec2b5ed94baae3</td>\n",
       "      <td>0</td>\n",
       "      <td>2</td>\n",
       "      <td>100.00</td>\n",
       "      <td>0</td>\n",
       "      <td>0</td>\n",
       "      <td>3</td>\n",
       "      <td>...</td>\n",
       "      <td>0</td>\n",
       "      <td>918.4</td>\n",
       "      <td>0</td>\n",
       "      <td>0.0</td>\n",
       "      <td>0</td>\n",
       "      <td>0</td>\n",
       "      <td>1721.00</td>\n",
       "      <td>5</td>\n",
       "      <td>0</td>\n",
       "      <td>0.6429</td>\n",
       "    </tr>\n",
       "  </tbody>\n",
       "</table>\n",
       "<p>5 rows × 30 columns</p>\n",
       "</div>"
      ],
      "text/plain": [
       "   Unnamed: 0              Id         groupId         matchId  assists  \\\n",
       "0     2093518  a3e3cea9f2e314  c9f6eaa81245b5  a3d8693390584c        0   \n",
       "1     3701672  43e4be7ad72cc7  521836de101ee8  b65de9055327e0        0   \n",
       "2     2059784  9a68690e31fdff  4a72ffa2cebd90  d6aad3f9830e60        0   \n",
       "3     1302036  b147e1bd448fc4  9a8991656b3fea  d931c0932d8aca        0   \n",
       "4      297180  d818b4edd59612  eece87c8b846b3  ec2b5ed94baae3        0   \n",
       "\n",
       "   boosts  damageDealt  DBNOs  headshotKills  heals  ...  revives  \\\n",
       "0       0        25.93      0              0      0  ...        0   \n",
       "1       0        36.71      0              0      0  ...        0   \n",
       "2       1        47.73      0              0      0  ...        0   \n",
       "3       0         0.00      0              0      0  ...        1   \n",
       "4       2       100.00      0              0      3  ...        0   \n",
       "\n",
       "   rideDistance  roadKills  swimDistance  teamKills  vehicleDestroys  \\\n",
       "0           0.0          0           0.0          0                0   \n",
       "1           0.0          0           0.0          0                0   \n",
       "2        4088.0          0           0.0          0                0   \n",
       "3           0.0          0           0.0          0                0   \n",
       "4         918.4          0           0.0          0                0   \n",
       "\n",
       "  walkDistance  weaponsAcquired  winPoints  winPlacePerc  \n",
       "0       151.30                1       1525        0.0667  \n",
       "1      1918.00                7       1516        0.5862  \n",
       "2       820.00                7          0        0.8105  \n",
       "3        38.81                0       1515        0.5556  \n",
       "4      1721.00                5          0        0.6429  \n",
       "\n",
       "[5 rows x 30 columns]"
      ]
     },
     "execution_count": 3,
     "metadata": {},
     "output_type": "execute_result"
    }
   ],
   "source": [
    "df.head()"
   ]
  },
  {
   "cell_type": "markdown",
   "metadata": {},
   "source": [
    "- Shape of the Dataframe."
   ]
  },
  {
   "cell_type": "code",
   "execution_count": 4,
   "metadata": {},
   "outputs": [
    {
     "data": {
      "text/plain": [
       "(1111742, 30)"
      ]
     },
     "execution_count": 4,
     "metadata": {},
     "output_type": "execute_result"
    }
   ],
   "source": [
    "df.shape"
   ]
  },
  {
   "cell_type": "markdown",
   "metadata": {},
   "source": [
    "- Statistical Description of the dataframe."
   ]
  },
  {
   "cell_type": "code",
   "execution_count": 5,
   "metadata": {},
   "outputs": [
    {
     "data": {
      "text/html": [
       "<div>\n",
       "<style scoped>\n",
       "    .dataframe tbody tr th:only-of-type {\n",
       "        vertical-align: middle;\n",
       "    }\n",
       "\n",
       "    .dataframe tbody tr th {\n",
       "        vertical-align: top;\n",
       "    }\n",
       "\n",
       "    .dataframe thead th {\n",
       "        text-align: right;\n",
       "    }\n",
       "</style>\n",
       "<table border=\"1\" class=\"dataframe\">\n",
       "  <thead>\n",
       "    <tr style=\"text-align: right;\">\n",
       "      <th></th>\n",
       "      <th>Unnamed: 0</th>\n",
       "      <th>assists</th>\n",
       "      <th>boosts</th>\n",
       "      <th>damageDealt</th>\n",
       "      <th>DBNOs</th>\n",
       "      <th>headshotKills</th>\n",
       "      <th>heals</th>\n",
       "      <th>killPlace</th>\n",
       "      <th>killPoints</th>\n",
       "      <th>kills</th>\n",
       "      <th>...</th>\n",
       "      <th>revives</th>\n",
       "      <th>rideDistance</th>\n",
       "      <th>roadKills</th>\n",
       "      <th>swimDistance</th>\n",
       "      <th>teamKills</th>\n",
       "      <th>vehicleDestroys</th>\n",
       "      <th>walkDistance</th>\n",
       "      <th>weaponsAcquired</th>\n",
       "      <th>winPoints</th>\n",
       "      <th>winPlacePerc</th>\n",
       "    </tr>\n",
       "  </thead>\n",
       "  <tbody>\n",
       "    <tr>\n",
       "      <th>count</th>\n",
       "      <td>1.111742e+06</td>\n",
       "      <td>1.111742e+06</td>\n",
       "      <td>1.111742e+06</td>\n",
       "      <td>1.111742e+06</td>\n",
       "      <td>1.111742e+06</td>\n",
       "      <td>1.111742e+06</td>\n",
       "      <td>1.111742e+06</td>\n",
       "      <td>1.111742e+06</td>\n",
       "      <td>1.111742e+06</td>\n",
       "      <td>1.111742e+06</td>\n",
       "      <td>...</td>\n",
       "      <td>1.111742e+06</td>\n",
       "      <td>1.111742e+06</td>\n",
       "      <td>1.111742e+06</td>\n",
       "      <td>1.111742e+06</td>\n",
       "      <td>1.111742e+06</td>\n",
       "      <td>1.111742e+06</td>\n",
       "      <td>1.111742e+06</td>\n",
       "      <td>1.111742e+06</td>\n",
       "      <td>1.111742e+06</td>\n",
       "      <td>1.111741e+06</td>\n",
       "    </tr>\n",
       "    <tr>\n",
       "      <th>mean</th>\n",
       "      <td>2.224362e+06</td>\n",
       "      <td>2.336738e-01</td>\n",
       "      <td>1.106655e+00</td>\n",
       "      <td>1.307364e+02</td>\n",
       "      <td>6.573612e-01</td>\n",
       "      <td>2.266488e-01</td>\n",
       "      <td>1.370348e+00</td>\n",
       "      <td>4.759562e+01</td>\n",
       "      <td>5.044301e+02</td>\n",
       "      <td>9.255097e-01</td>\n",
       "      <td>...</td>\n",
       "      <td>1.641784e-01</td>\n",
       "      <td>6.042142e+02</td>\n",
       "      <td>3.551184e-03</td>\n",
       "      <td>4.545068e+00</td>\n",
       "      <td>2.401097e-02</td>\n",
       "      <td>7.833652e-03</td>\n",
       "      <td>1.153282e+03</td>\n",
       "      <td>3.659685e+00</td>\n",
       "      <td>6.057065e+02</td>\n",
       "      <td>4.727868e-01</td>\n",
       "    </tr>\n",
       "    <tr>\n",
       "      <th>std</th>\n",
       "      <td>1.283879e+06</td>\n",
       "      <td>5.894028e-01</td>\n",
       "      <td>1.716050e+00</td>\n",
       "      <td>1.711755e+02</td>\n",
       "      <td>1.146023e+00</td>\n",
       "      <td>6.033356e-01</td>\n",
       "      <td>2.683819e+00</td>\n",
       "      <td>2.747025e+01</td>\n",
       "      <td>6.274006e+02</td>\n",
       "      <td>1.562216e+00</td>\n",
       "      <td>...</td>\n",
       "      <td>4.704189e-01</td>\n",
       "      <td>1.495949e+03</td>\n",
       "      <td>7.385452e-02</td>\n",
       "      <td>3.061857e+01</td>\n",
       "      <td>1.678909e-01</td>\n",
       "      <td>9.194621e-02</td>\n",
       "      <td>1.182788e+03</td>\n",
       "      <td>2.461805e+00</td>\n",
       "      <td>7.395140e+02</td>\n",
       "      <td>3.073771e-01</td>\n",
       "    </tr>\n",
       "    <tr>\n",
       "      <th>min</th>\n",
       "      <td>6.000000e+00</td>\n",
       "      <td>0.000000e+00</td>\n",
       "      <td>0.000000e+00</td>\n",
       "      <td>0.000000e+00</td>\n",
       "      <td>0.000000e+00</td>\n",
       "      <td>0.000000e+00</td>\n",
       "      <td>0.000000e+00</td>\n",
       "      <td>1.000000e+00</td>\n",
       "      <td>0.000000e+00</td>\n",
       "      <td>0.000000e+00</td>\n",
       "      <td>...</td>\n",
       "      <td>0.000000e+00</td>\n",
       "      <td>0.000000e+00</td>\n",
       "      <td>0.000000e+00</td>\n",
       "      <td>0.000000e+00</td>\n",
       "      <td>0.000000e+00</td>\n",
       "      <td>0.000000e+00</td>\n",
       "      <td>0.000000e+00</td>\n",
       "      <td>0.000000e+00</td>\n",
       "      <td>0.000000e+00</td>\n",
       "      <td>0.000000e+00</td>\n",
       "    </tr>\n",
       "    <tr>\n",
       "      <th>25%</th>\n",
       "      <td>1.112440e+06</td>\n",
       "      <td>0.000000e+00</td>\n",
       "      <td>0.000000e+00</td>\n",
       "      <td>0.000000e+00</td>\n",
       "      <td>0.000000e+00</td>\n",
       "      <td>0.000000e+00</td>\n",
       "      <td>0.000000e+00</td>\n",
       "      <td>2.400000e+01</td>\n",
       "      <td>0.000000e+00</td>\n",
       "      <td>0.000000e+00</td>\n",
       "      <td>...</td>\n",
       "      <td>0.000000e+00</td>\n",
       "      <td>0.000000e+00</td>\n",
       "      <td>0.000000e+00</td>\n",
       "      <td>0.000000e+00</td>\n",
       "      <td>0.000000e+00</td>\n",
       "      <td>0.000000e+00</td>\n",
       "      <td>1.552000e+02</td>\n",
       "      <td>2.000000e+00</td>\n",
       "      <td>0.000000e+00</td>\n",
       "      <td>2.000000e-01</td>\n",
       "    </tr>\n",
       "    <tr>\n",
       "      <th>50%</th>\n",
       "      <td>2.223772e+06</td>\n",
       "      <td>0.000000e+00</td>\n",
       "      <td>0.000000e+00</td>\n",
       "      <td>8.411000e+01</td>\n",
       "      <td>0.000000e+00</td>\n",
       "      <td>0.000000e+00</td>\n",
       "      <td>0.000000e+00</td>\n",
       "      <td>4.700000e+01</td>\n",
       "      <td>0.000000e+00</td>\n",
       "      <td>0.000000e+00</td>\n",
       "      <td>...</td>\n",
       "      <td>0.000000e+00</td>\n",
       "      <td>0.000000e+00</td>\n",
       "      <td>0.000000e+00</td>\n",
       "      <td>0.000000e+00</td>\n",
       "      <td>0.000000e+00</td>\n",
       "      <td>0.000000e+00</td>\n",
       "      <td>6.841000e+02</td>\n",
       "      <td>3.000000e+00</td>\n",
       "      <td>0.000000e+00</td>\n",
       "      <td>4.583000e-01</td>\n",
       "    </tr>\n",
       "    <tr>\n",
       "      <th>75%</th>\n",
       "      <td>3.337954e+06</td>\n",
       "      <td>0.000000e+00</td>\n",
       "      <td>2.000000e+00</td>\n",
       "      <td>1.859000e+02</td>\n",
       "      <td>1.000000e+00</td>\n",
       "      <td>0.000000e+00</td>\n",
       "      <td>2.000000e+00</td>\n",
       "      <td>7.100000e+01</td>\n",
       "      <td>1.171000e+03</td>\n",
       "      <td>1.000000e+00</td>\n",
       "      <td>...</td>\n",
       "      <td>0.000000e+00</td>\n",
       "      <td>7.927500e-02</td>\n",
       "      <td>0.000000e+00</td>\n",
       "      <td>0.000000e+00</td>\n",
       "      <td>0.000000e+00</td>\n",
       "      <td>0.000000e+00</td>\n",
       "      <td>1.975000e+03</td>\n",
       "      <td>5.000000e+00</td>\n",
       "      <td>1.495000e+03</td>\n",
       "      <td>7.407000e-01</td>\n",
       "    </tr>\n",
       "    <tr>\n",
       "      <th>max</th>\n",
       "      <td>4.446964e+06</td>\n",
       "      <td>1.700000e+01</td>\n",
       "      <td>2.400000e+01</td>\n",
       "      <td>5.990000e+03</td>\n",
       "      <td>3.500000e+01</td>\n",
       "      <td>6.400000e+01</td>\n",
       "      <td>7.300000e+01</td>\n",
       "      <td>1.000000e+02</td>\n",
       "      <td>2.170000e+03</td>\n",
       "      <td>7.200000e+01</td>\n",
       "      <td>...</td>\n",
       "      <td>2.300000e+01</td>\n",
       "      <td>3.540000e+04</td>\n",
       "      <td>1.400000e+01</td>\n",
       "      <td>2.668000e+03</td>\n",
       "      <td>1.000000e+01</td>\n",
       "      <td>5.000000e+00</td>\n",
       "      <td>1.396000e+04</td>\n",
       "      <td>1.770000e+02</td>\n",
       "      <td>2.002000e+03</td>\n",
       "      <td>1.000000e+00</td>\n",
       "    </tr>\n",
       "  </tbody>\n",
       "</table>\n",
       "<p>8 rows × 26 columns</p>\n",
       "</div>"
      ],
      "text/plain": [
       "         Unnamed: 0       assists        boosts   damageDealt         DBNOs  \\\n",
       "count  1.111742e+06  1.111742e+06  1.111742e+06  1.111742e+06  1.111742e+06   \n",
       "mean   2.224362e+06  2.336738e-01  1.106655e+00  1.307364e+02  6.573612e-01   \n",
       "std    1.283879e+06  5.894028e-01  1.716050e+00  1.711755e+02  1.146023e+00   \n",
       "min    6.000000e+00  0.000000e+00  0.000000e+00  0.000000e+00  0.000000e+00   \n",
       "25%    1.112440e+06  0.000000e+00  0.000000e+00  0.000000e+00  0.000000e+00   \n",
       "50%    2.223772e+06  0.000000e+00  0.000000e+00  8.411000e+01  0.000000e+00   \n",
       "75%    3.337954e+06  0.000000e+00  2.000000e+00  1.859000e+02  1.000000e+00   \n",
       "max    4.446964e+06  1.700000e+01  2.400000e+01  5.990000e+03  3.500000e+01   \n",
       "\n",
       "       headshotKills         heals     killPlace    killPoints         kills  \\\n",
       "count   1.111742e+06  1.111742e+06  1.111742e+06  1.111742e+06  1.111742e+06   \n",
       "mean    2.266488e-01  1.370348e+00  4.759562e+01  5.044301e+02  9.255097e-01   \n",
       "std     6.033356e-01  2.683819e+00  2.747025e+01  6.274006e+02  1.562216e+00   \n",
       "min     0.000000e+00  0.000000e+00  1.000000e+00  0.000000e+00  0.000000e+00   \n",
       "25%     0.000000e+00  0.000000e+00  2.400000e+01  0.000000e+00  0.000000e+00   \n",
       "50%     0.000000e+00  0.000000e+00  4.700000e+01  0.000000e+00  0.000000e+00   \n",
       "75%     0.000000e+00  2.000000e+00  7.100000e+01  1.171000e+03  1.000000e+00   \n",
       "max     6.400000e+01  7.300000e+01  1.000000e+02  2.170000e+03  7.200000e+01   \n",
       "\n",
       "       ...       revives  rideDistance     roadKills  swimDistance  \\\n",
       "count  ...  1.111742e+06  1.111742e+06  1.111742e+06  1.111742e+06   \n",
       "mean   ...  1.641784e-01  6.042142e+02  3.551184e-03  4.545068e+00   \n",
       "std    ...  4.704189e-01  1.495949e+03  7.385452e-02  3.061857e+01   \n",
       "min    ...  0.000000e+00  0.000000e+00  0.000000e+00  0.000000e+00   \n",
       "25%    ...  0.000000e+00  0.000000e+00  0.000000e+00  0.000000e+00   \n",
       "50%    ...  0.000000e+00  0.000000e+00  0.000000e+00  0.000000e+00   \n",
       "75%    ...  0.000000e+00  7.927500e-02  0.000000e+00  0.000000e+00   \n",
       "max    ...  2.300000e+01  3.540000e+04  1.400000e+01  2.668000e+03   \n",
       "\n",
       "          teamKills  vehicleDestroys  walkDistance  weaponsAcquired  \\\n",
       "count  1.111742e+06     1.111742e+06  1.111742e+06     1.111742e+06   \n",
       "mean   2.401097e-02     7.833652e-03  1.153282e+03     3.659685e+00   \n",
       "std    1.678909e-01     9.194621e-02  1.182788e+03     2.461805e+00   \n",
       "min    0.000000e+00     0.000000e+00  0.000000e+00     0.000000e+00   \n",
       "25%    0.000000e+00     0.000000e+00  1.552000e+02     2.000000e+00   \n",
       "50%    0.000000e+00     0.000000e+00  6.841000e+02     3.000000e+00   \n",
       "75%    0.000000e+00     0.000000e+00  1.975000e+03     5.000000e+00   \n",
       "max    1.000000e+01     5.000000e+00  1.396000e+04     1.770000e+02   \n",
       "\n",
       "          winPoints  winPlacePerc  \n",
       "count  1.111742e+06  1.111741e+06  \n",
       "mean   6.057065e+02  4.727868e-01  \n",
       "std    7.395140e+02  3.073771e-01  \n",
       "min    0.000000e+00  0.000000e+00  \n",
       "25%    0.000000e+00  2.000000e-01  \n",
       "50%    0.000000e+00  4.583000e-01  \n",
       "75%    1.495000e+03  7.407000e-01  \n",
       "max    2.002000e+03  1.000000e+00  \n",
       "\n",
       "[8 rows x 26 columns]"
      ]
     },
     "execution_count": 5,
     "metadata": {},
     "output_type": "execute_result"
    }
   ],
   "source": [
    "df.describe()"
   ]
  },
  {
   "cell_type": "code",
   "execution_count": 6,
   "metadata": {},
   "outputs": [
    {
     "data": {
      "text/plain": [
       "Unnamed: 0         0\n",
       "Id                 0\n",
       "groupId            0\n",
       "matchId            0\n",
       "assists            0\n",
       "boosts             0\n",
       "damageDealt        0\n",
       "DBNOs              0\n",
       "headshotKills      0\n",
       "heals              0\n",
       "killPlace          0\n",
       "killPoints         0\n",
       "kills              0\n",
       "killStreaks        0\n",
       "longestKill        0\n",
       "matchDuration      0\n",
       "matchType          0\n",
       "maxPlace           0\n",
       "numGroups          0\n",
       "rankPoints         0\n",
       "revives            0\n",
       "rideDistance       0\n",
       "roadKills          0\n",
       "swimDistance       0\n",
       "teamKills          0\n",
       "vehicleDestroys    0\n",
       "walkDistance       0\n",
       "weaponsAcquired    0\n",
       "winPoints          0\n",
       "winPlacePerc       1\n",
       "dtype: int64"
      ]
     },
     "execution_count": 6,
     "metadata": {},
     "output_type": "execute_result"
    }
   ],
   "source": [
    "df.isnull().sum()"
   ]
  },
  {
   "cell_type": "markdown",
   "metadata": {},
   "source": [
    "### Observation:\n",
    "We can see that there is one missing value present in the data for column regarding `winPlacePerc`. So, there is a necessity we have to fill the missing value with some value."
   ]
  },
  {
   "cell_type": "markdown",
   "metadata": {},
   "source": [
    "### Step4 - Data Cleaning."
   ]
  },
  {
   "cell_type": "code",
   "execution_count": 7,
   "metadata": {},
   "outputs": [],
   "source": [
    "df['winPlacePerc'].fillna(df['winPlacePerc'].mean(), inplace = True)"
   ]
  },
  {
   "cell_type": "code",
   "execution_count": 8,
   "metadata": {
    "scrolled": false
   },
   "outputs": [
    {
     "data": {
      "text/plain": [
       "Unnamed: 0         0\n",
       "Id                 0\n",
       "groupId            0\n",
       "matchId            0\n",
       "assists            0\n",
       "boosts             0\n",
       "damageDealt        0\n",
       "DBNOs              0\n",
       "headshotKills      0\n",
       "heals              0\n",
       "killPlace          0\n",
       "killPoints         0\n",
       "kills              0\n",
       "killStreaks        0\n",
       "longestKill        0\n",
       "matchDuration      0\n",
       "matchType          0\n",
       "maxPlace           0\n",
       "numGroups          0\n",
       "rankPoints         0\n",
       "revives            0\n",
       "rideDistance       0\n",
       "roadKills          0\n",
       "swimDistance       0\n",
       "teamKills          0\n",
       "vehicleDestroys    0\n",
       "walkDistance       0\n",
       "weaponsAcquired    0\n",
       "winPoints          0\n",
       "winPlacePerc       0\n",
       "dtype: int64"
      ]
     },
     "execution_count": 8,
     "metadata": {},
     "output_type": "execute_result"
    }
   ],
   "source": [
    "df.isnull().sum()"
   ]
  },
  {
   "cell_type": "markdown",
   "metadata": {},
   "source": [
    "### Observation\n",
    "We can see there are no missing values present in the dataset after data cleaning."
   ]
  },
  {
   "cell_type": "markdown",
   "metadata": {},
   "source": [
    "### Dropping Unnecessary Columns."
   ]
  },
  {
   "cell_type": "code",
   "execution_count": 9,
   "metadata": {},
   "outputs": [],
   "source": [
    "df.drop(['Unnamed: 0'],axis=1,inplace = True)\n",
    "df.drop(['Id'],axis=1,inplace = True)\n",
    "df.drop(['groupId'],axis=1,inplace = True)\n",
    "df.drop(['matchId'],axis=1,inplace = True)"
   ]
  },
  {
   "cell_type": "code",
   "execution_count": 10,
   "metadata": {},
   "outputs": [
    {
     "data": {
      "text/html": [
       "<div>\n",
       "<style scoped>\n",
       "    .dataframe tbody tr th:only-of-type {\n",
       "        vertical-align: middle;\n",
       "    }\n",
       "\n",
       "    .dataframe tbody tr th {\n",
       "        vertical-align: top;\n",
       "    }\n",
       "\n",
       "    .dataframe thead th {\n",
       "        text-align: right;\n",
       "    }\n",
       "</style>\n",
       "<table border=\"1\" class=\"dataframe\">\n",
       "  <thead>\n",
       "    <tr style=\"text-align: right;\">\n",
       "      <th></th>\n",
       "      <th>assists</th>\n",
       "      <th>boosts</th>\n",
       "      <th>damageDealt</th>\n",
       "      <th>DBNOs</th>\n",
       "      <th>headshotKills</th>\n",
       "      <th>heals</th>\n",
       "      <th>killPlace</th>\n",
       "      <th>killPoints</th>\n",
       "      <th>kills</th>\n",
       "      <th>killStreaks</th>\n",
       "      <th>...</th>\n",
       "      <th>revives</th>\n",
       "      <th>rideDistance</th>\n",
       "      <th>roadKills</th>\n",
       "      <th>swimDistance</th>\n",
       "      <th>teamKills</th>\n",
       "      <th>vehicleDestroys</th>\n",
       "      <th>walkDistance</th>\n",
       "      <th>weaponsAcquired</th>\n",
       "      <th>winPoints</th>\n",
       "      <th>winPlacePerc</th>\n",
       "    </tr>\n",
       "  </thead>\n",
       "  <tbody>\n",
       "    <tr>\n",
       "      <th>0</th>\n",
       "      <td>0</td>\n",
       "      <td>0</td>\n",
       "      <td>25.93</td>\n",
       "      <td>0</td>\n",
       "      <td>0</td>\n",
       "      <td>0</td>\n",
       "      <td>84</td>\n",
       "      <td>1437</td>\n",
       "      <td>0</td>\n",
       "      <td>0</td>\n",
       "      <td>...</td>\n",
       "      <td>0</td>\n",
       "      <td>0.0</td>\n",
       "      <td>0</td>\n",
       "      <td>0.0</td>\n",
       "      <td>0</td>\n",
       "      <td>0</td>\n",
       "      <td>151.3</td>\n",
       "      <td>1</td>\n",
       "      <td>1525</td>\n",
       "      <td>0.0667</td>\n",
       "    </tr>\n",
       "    <tr>\n",
       "      <th>1</th>\n",
       "      <td>0</td>\n",
       "      <td>0</td>\n",
       "      <td>36.71</td>\n",
       "      <td>0</td>\n",
       "      <td>0</td>\n",
       "      <td>0</td>\n",
       "      <td>57</td>\n",
       "      <td>1225</td>\n",
       "      <td>0</td>\n",
       "      <td>0</td>\n",
       "      <td>...</td>\n",
       "      <td>0</td>\n",
       "      <td>0.0</td>\n",
       "      <td>0</td>\n",
       "      <td>0.0</td>\n",
       "      <td>0</td>\n",
       "      <td>0</td>\n",
       "      <td>1918.0</td>\n",
       "      <td>7</td>\n",
       "      <td>1516</td>\n",
       "      <td>0.5862</td>\n",
       "    </tr>\n",
       "  </tbody>\n",
       "</table>\n",
       "<p>2 rows × 26 columns</p>\n",
       "</div>"
      ],
      "text/plain": [
       "   assists  boosts  damageDealt  DBNOs  headshotKills  heals  killPlace  \\\n",
       "0        0       0        25.93      0              0      0         84   \n",
       "1        0       0        36.71      0              0      0         57   \n",
       "\n",
       "   killPoints  kills  killStreaks  ...  revives  rideDistance roadKills  \\\n",
       "0        1437      0            0  ...        0           0.0         0   \n",
       "1        1225      0            0  ...        0           0.0         0   \n",
       "\n",
       "   swimDistance  teamKills  vehicleDestroys  walkDistance  weaponsAcquired  \\\n",
       "0           0.0          0                0         151.3                1   \n",
       "1           0.0          0                0        1918.0                7   \n",
       "\n",
       "   winPoints  winPlacePerc  \n",
       "0       1525        0.0667  \n",
       "1       1516        0.5862  \n",
       "\n",
       "[2 rows x 26 columns]"
      ]
     },
     "execution_count": 10,
     "metadata": {},
     "output_type": "execute_result"
    }
   ],
   "source": [
    "df.head(2)"
   ]
  },
  {
   "cell_type": "code",
   "execution_count": 11,
   "metadata": {},
   "outputs": [
    {
     "name": "stdout",
     "output_type": "stream",
     "text": [
      "<class 'pandas.core.frame.DataFrame'>\n",
      "RangeIndex: 1111742 entries, 0 to 1111741\n",
      "Data columns (total 26 columns):\n",
      " #   Column           Non-Null Count    Dtype  \n",
      "---  ------           --------------    -----  \n",
      " 0   assists          1111742 non-null  int64  \n",
      " 1   boosts           1111742 non-null  int64  \n",
      " 2   damageDealt      1111742 non-null  float64\n",
      " 3   DBNOs            1111742 non-null  int64  \n",
      " 4   headshotKills    1111742 non-null  int64  \n",
      " 5   heals            1111742 non-null  int64  \n",
      " 6   killPlace        1111742 non-null  int64  \n",
      " 7   killPoints       1111742 non-null  int64  \n",
      " 8   kills            1111742 non-null  int64  \n",
      " 9   killStreaks      1111742 non-null  int64  \n",
      " 10  longestKill      1111742 non-null  float64\n",
      " 11  matchDuration    1111742 non-null  int64  \n",
      " 12  matchType        1111742 non-null  object \n",
      " 13  maxPlace         1111742 non-null  int64  \n",
      " 14  numGroups        1111742 non-null  int64  \n",
      " 15  rankPoints       1111742 non-null  int64  \n",
      " 16  revives          1111742 non-null  int64  \n",
      " 17  rideDistance     1111742 non-null  float64\n",
      " 18  roadKills        1111742 non-null  int64  \n",
      " 19  swimDistance     1111742 non-null  float64\n",
      " 20  teamKills        1111742 non-null  int64  \n",
      " 21  vehicleDestroys  1111742 non-null  int64  \n",
      " 22  walkDistance     1111742 non-null  float64\n",
      " 23  weaponsAcquired  1111742 non-null  int64  \n",
      " 24  winPoints        1111742 non-null  int64  \n",
      " 25  winPlacePerc     1111742 non-null  float64\n",
      "dtypes: float64(6), int64(19), object(1)\n",
      "memory usage: 220.5+ MB\n"
     ]
    }
   ],
   "source": [
    "df.info()"
   ]
  },
  {
   "cell_type": "markdown",
   "metadata": {},
   "source": [
    "### Step5 - Univariate Analysis."
   ]
  },
  {
   "cell_type": "markdown",
   "metadata": {},
   "source": [
    "### 1) Finding the outliers in each numerical column.\n",
    "\n",
    "- Outliers - Outlier is an observation that is numerically distant from the rest of the data or in a simple word it is the value which is out of the range or it has extremely high or low values.\n",
    "\n",
    "`DIFFERENT OUTLIER DETECTION TECHNIQUES:`\n",
    "- Z-Score.\n",
    "- IQR.\n",
    "- Visualization Methods.\n",
    "- Hypothesis Testing."
   ]
  },
  {
   "cell_type": "markdown",
   "metadata": {},
   "source": [
    "##### a) Z-Score  \n",
    "- Using Z-Score method, we can find out the `distance of a point from the mean with respect to standard deviation.`  \n",
    "`Z score = (Observation — Mean)/Standard Deviation`    \n",
    "`Z* or Z-Score = (X — μ) / σ`  "
   ]
  },
  {
   "cell_type": "markdown",
   "metadata": {},
   "source": [
    "- Number of Outliers present for different columns regarding float datatype."
   ]
  },
  {
   "cell_type": "code",
   "execution_count": 12,
   "metadata": {},
   "outputs": [
    {
     "name": "stdout",
     "output_type": "stream",
     "text": [
      "Column name is : damageDealt\n",
      "Number of outliers in dataset is 21288\n",
      "*****************************************************\n",
      "Column name is : longestKill\n",
      "Number of outliers in dataset is 29011\n",
      "*****************************************************\n",
      "Column name is : rideDistance\n",
      "Number of outliers in dataset is 33013\n",
      "*****************************************************\n",
      "Column name is : swimDistance\n",
      "Number of outliers in dataset is 15830\n",
      "*****************************************************\n",
      "Column name is : walkDistance\n",
      "Number of outliers in dataset is 6795\n",
      "*****************************************************\n",
      "Column name is : winPlacePerc\n",
      "Number of outliers in dataset is 0\n",
      "*****************************************************\n"
     ]
    }
   ],
   "source": [
    "num_cols = [col for col in df.columns if df[col].dtypes == 'float64']\n",
    "num_cols\n",
    "def zscore_outlier(df,col):\n",
    "    mean = df[col].mean()\n",
    "    std = df[col].std()\n",
    "    threshold = 3\n",
    "    outlier = [] \n",
    "    for i in df[col]: \n",
    "        z = (i-mean)/std\n",
    "        if z > threshold: \n",
    "            outlier.append(i)\n",
    "    print('Column name is :',col)\n",
    "    print('Number of outliers in dataset is', len(outlier))\n",
    "    return '*****************************************************'\n",
    "for i in num_cols:\n",
    "    print(zscore_outlier(df,i))"
   ]
  },
  {
   "cell_type": "markdown",
   "metadata": {},
   "source": [
    "#### Observation  \n",
    "The above program gives you the number of outliers for columns representing float datatype."
   ]
  },
  {
   "cell_type": "markdown",
   "metadata": {},
   "source": [
    "- Number of outliers present in different columns regarding integer datatype."
   ]
  },
  {
   "cell_type": "code",
   "execution_count": 13,
   "metadata": {},
   "outputs": [
    {
     "name": "stdout",
     "output_type": "stream",
     "text": [
      "Column name is : assists\n",
      "Number of outliers in dataset is 12552\n",
      "*****************************************************\n",
      "Column name is : boosts\n",
      "Number of outliers in dataset is 17906\n",
      "*****************************************************\n",
      "Column name is : DBNOs\n",
      "Number of outliers in dataset is 15802\n",
      "*****************************************************\n",
      "Column name is : headshotKills\n",
      "Number of outliers in dataset is 12273\n",
      "*****************************************************\n",
      "Column name is : heals\n",
      "Number of outliers in dataset is 25219\n",
      "*****************************************************\n",
      "Column name is : killPlace\n",
      "Number of outliers in dataset is 0\n",
      "*****************************************************\n",
      "Column name is : killPoints\n",
      "Number of outliers in dataset is 0\n",
      "*****************************************************\n",
      "Column name is : kills\n",
      "Number of outliers in dataset is 23235\n",
      "*****************************************************\n",
      "Column name is : killStreaks\n",
      "Number of outliers in dataset is 13391\n",
      "*****************************************************\n",
      "Column name is : matchDuration\n",
      "Number of outliers in dataset is 0\n",
      "*****************************************************\n",
      "Column name is : maxPlace\n",
      "Number of outliers in dataset is 0\n",
      "*****************************************************\n",
      "Column name is : numGroups\n",
      "Number of outliers in dataset is 0\n",
      "*****************************************************\n",
      "Column name is : rankPoints\n",
      "Number of outliers in dataset is 38\n",
      "*****************************************************\n",
      "Column name is : revives\n",
      "Number of outliers in dataset is 29179\n",
      "*****************************************************\n",
      "Column name is : roadKills\n",
      "Number of outliers in dataset is 3291\n",
      "*****************************************************\n",
      "Column name is : teamKills\n",
      "Number of outliers in dataset is 24387\n",
      "*****************************************************\n",
      "Column name is : vehicleDestroys\n",
      "Number of outliers in dataset is 8366\n",
      "*****************************************************\n",
      "Column name is : weaponsAcquired\n",
      "Number of outliers in dataset is 6274\n",
      "*****************************************************\n",
      "Column name is : winPoints\n",
      "Number of outliers in dataset is 0\n",
      "*****************************************************\n"
     ]
    }
   ],
   "source": [
    "num_cols = [col for col in df.columns if df[col].dtypes == 'int64']\n",
    "num_cols\n",
    "def zscore_outlier(df,col):\n",
    "    mean = df[col].mean()\n",
    "    std = df[col].std()\n",
    "    threshold = 3\n",
    "    outlier = [] \n",
    "    for i in df[col]: \n",
    "        z = (i-mean)/std\n",
    "        if z > threshold: \n",
    "            outlier.append(i)\n",
    "    print('Column name is :',col)\n",
    "    print('Number of outliers in dataset is', len(outlier))\n",
    "    return '*****************************************************'\n",
    "for i in num_cols:\n",
    "    print(zscore_outlier(df,i))"
   ]
  },
  {
   "cell_type": "markdown",
   "metadata": {},
   "source": [
    "#### Observation  \n",
    "The above program gives you the number of outliers for columns representing integer datatype."
   ]
  },
  {
   "cell_type": "markdown",
   "metadata": {},
   "source": [
    "#### b) Using IQR"
   ]
  },
  {
   "cell_type": "markdown",
   "metadata": {},
   "source": [
    "- In this method by using Inter Quartile Range(IQR), we detect outliers. IQR tells us the variation in the data set.Any value, which is beyond the range of -1.5 x IQR to 1.5 x IQR are treated as outliers.\n",
    "\n",
    "- Q1 represents the 1st quartile/25th percentile of the data.  \n",
    "  Q2 represents the 2nd quartile/median/50th percentile of the data.  \n",
    "  Q3 represents the 3rd quartile/75th percentile of the data.  \n",
    "  (Q1–1.5*IQR) represent the smallest value in the data set and (Q3+1.5*IQR) represent the largest value in the data set."
   ]
  },
  {
   "cell_type": "markdown",
   "metadata": {},
   "source": [
    "- Detecting Outliers using IQR method for integer datatype."
   ]
  },
  {
   "cell_type": "code",
   "execution_count": 14,
   "metadata": {
    "scrolled": false
   },
   "outputs": [
    {
     "name": "stdout",
     "output_type": "stream",
     "text": [
      "Variable name is : assists\n",
      "IQR is  0.0\n",
      "Lower_Bound 0.0\n",
      "Upper_Bound 0.0\n",
      "number  of Outliers are : 194611\n",
      "***************************************************************\n",
      "Variable name is : boosts\n",
      "IQR is  2.0\n",
      "Lower_Bound -3.0\n",
      "Upper_Bound 5.0\n",
      "number  of Outliers are : 35533\n",
      "***************************************************************\n",
      "Variable name is : DBNOs\n",
      "IQR is  1.0\n",
      "Lower_Bound -1.5\n",
      "Upper_Bound 2.5\n",
      "number  of Outliers are : 73607\n",
      "***************************************************************\n",
      "Variable name is : headshotKills\n",
      "IQR is  0.0\n",
      "Lower_Bound 0.0\n",
      "Upper_Bound 0.0\n",
      "number  of Outliers are : 187930\n",
      "***************************************************************\n",
      "Variable name is : heals\n",
      "IQR is  2.0\n",
      "Lower_Bound -3.0\n",
      "Upper_Bound 5.0\n",
      "number  of Outliers are : 81625\n",
      "***************************************************************\n",
      "Variable name is : killPlace\n",
      "IQR is  47.0\n",
      "Lower_Bound -46.5\n",
      "Upper_Bound 141.5\n",
      "number  of Outliers are : 0\n",
      "***************************************************************\n",
      "Variable name is : killPoints\n",
      "IQR is  1171.0\n",
      "Lower_Bound -1756.5\n",
      "Upper_Bound 2927.5\n",
      "number  of Outliers are : 0\n",
      "***************************************************************\n",
      "Variable name is : kills\n",
      "IQR is  1.0\n",
      "Lower_Bound -1.5\n",
      "Upper_Bound 2.5\n",
      "number  of Outliers are : 129163\n",
      "***************************************************************\n",
      "Variable name is : killStreaks\n",
      "IQR is  1.0\n",
      "Lower_Bound -1.5\n",
      "Upper_Bound 2.5\n",
      "number  of Outliers are : 13391\n",
      "***************************************************************\n",
      "Variable name is : matchDuration\n",
      "IQR is  484.0\n",
      "Lower_Bound 641.0\n",
      "Upper_Bound 2577.0\n",
      "number  of Outliers are : 700\n",
      "***************************************************************\n",
      "Variable name is : maxPlace\n",
      "IQR is  21.0\n",
      "Lower_Bound -3.5\n",
      "Upper_Bound 80.5\n",
      "number  of Outliers are : 175374\n",
      "***************************************************************\n",
      "Variable name is : numGroups\n",
      "IQR is  20.0\n",
      "Lower_Bound -3.0\n",
      "Upper_Bound 77.0\n",
      "number  of Outliers are : 174599\n",
      "***************************************************************\n",
      "Variable name is : rankPoints\n",
      "IQR is  1501.0\n",
      "Lower_Bound -2252.5\n",
      "Upper_Bound 3751.5\n",
      "number  of Outliers are : 21\n",
      "***************************************************************\n",
      "Variable name is : revives\n",
      "IQR is  0.0\n",
      "Lower_Bound 0.0\n",
      "Upper_Bound 0.0\n",
      "number  of Outliers are : 146345\n",
      "***************************************************************\n",
      "Variable name is : roadKills\n",
      "IQR is  0.0\n",
      "Lower_Bound 0.0\n",
      "Upper_Bound 0.0\n",
      "number  of Outliers are : 3291\n",
      "***************************************************************\n",
      "Variable name is : teamKills\n",
      "IQR is  0.0\n",
      "Lower_Bound 0.0\n",
      "Upper_Bound 0.0\n",
      "number  of Outliers are : 24387\n",
      "***************************************************************\n",
      "Variable name is : vehicleDestroys\n",
      "IQR is  0.0\n",
      "Lower_Bound 0.0\n",
      "Upper_Bound 0.0\n",
      "number  of Outliers are : 8366\n",
      "***************************************************************\n",
      "Variable name is : weaponsAcquired\n",
      "IQR is  3.0\n",
      "Lower_Bound -2.5\n",
      "Upper_Bound 9.5\n",
      "number  of Outliers are : 19803\n",
      "***************************************************************\n",
      "Variable name is : winPoints\n",
      "IQR is  1495.0\n",
      "Lower_Bound -2242.5\n",
      "Upper_Bound 3737.5\n",
      "number  of Outliers are : 0\n",
      "***************************************************************\n"
     ]
    }
   ],
   "source": [
    "def outliers(df, col):\n",
    "    Q1 = df[col].quantile(0.25)\n",
    "    Q3 = df[col].quantile(0.75)\n",
    "    IQR = Q3 - Q1\n",
    "    print('Variable name is :',col)\n",
    "    print('IQR is ',IQR)\n",
    "    l_bound = Q1-(1.5*IQR)\n",
    "    u_bound = Q3+(1.5*IQR)\n",
    "    print('Lower_Bound',l_bound)\n",
    "    print('Upper_Bound',u_bound)\n",
    "    outlier = [val for val in df[col] if val < l_bound or val > u_bound]\n",
    "    print('number  of Outliers are :',len(outlier))\n",
    "    return '***************************************************************'\n",
    "for i in num_cols:\n",
    "    print(outliers(df,i))"
   ]
  },
  {
   "cell_type": "markdown",
   "metadata": {},
   "source": [
    "### Observation  \n",
    "Any value outside the lower bound and upper bound for columns regarding integer datatype are called as Outliers."
   ]
  },
  {
   "cell_type": "markdown",
   "metadata": {},
   "source": [
    "- Detecting Outliers using IQR method for integer datatype."
   ]
  },
  {
   "cell_type": "code",
   "execution_count": 15,
   "metadata": {},
   "outputs": [
    {
     "name": "stdout",
     "output_type": "stream",
     "text": [
      "Variable name is : damageDealt\n",
      "IQR is  185.9\n",
      "Lower_Bound -278.85\n",
      "Upper_Bound 464.75\n",
      "number  of Outliers are : 54026\n",
      "***************************************************************\n",
      "Variable name is : longestKill\n",
      "IQR is  21.33\n",
      "Lower_Bound -31.994999999999997\n",
      "Upper_Bound 53.324999999999996\n",
      "number  of Outliers are : 153335\n",
      "***************************************************************\n",
      "Variable name is : rideDistance\n",
      "IQR is  0.079275\n",
      "Lower_Bound -0.1189125\n",
      "Upper_Bound 0.19818750000000002\n",
      "number  of Outliers are : 277645\n",
      "***************************************************************\n",
      "Variable name is : swimDistance\n",
      "IQR is  0.0\n",
      "Lower_Bound 0.0\n",
      "Upper_Bound 0.0\n",
      "number  of Outliers are : 72617\n",
      "***************************************************************\n",
      "Variable name is : walkDistance\n",
      "IQR is  1819.8\n",
      "Lower_Bound -2574.5\n",
      "Upper_Bound 4704.7\n",
      "number  of Outliers are : 6757\n",
      "***************************************************************\n",
      "Variable name is : winPlacePerc\n",
      "IQR is  0.5407\n",
      "Lower_Bound -0.6110499999999999\n",
      "Upper_Bound 1.55175\n",
      "number  of Outliers are : 0\n",
      "***************************************************************\n"
     ]
    }
   ],
   "source": [
    "num_cols = [col for col in df.columns if df[col].dtypes == 'float64']\n",
    "num_cols\n",
    "def outliers(df, col):\n",
    "    Q1 = df[col].quantile(0.25)\n",
    "    Q3 = df[col].quantile(0.75)\n",
    "    IQR = Q3 - Q1\n",
    "    print('Variable name is :',col)\n",
    "    print('IQR is ',IQR)\n",
    "    l_bound = Q1-(1.5*IQR)\n",
    "    u_bound = Q3+(1.5*IQR)\n",
    "    print('Lower_Bound',l_bound)\n",
    "    print('Upper_Bound',u_bound)\n",
    "    outlier = [val for val in df[col] if val < l_bound or val > u_bound]\n",
    "    #print('Outliers are :',outlier)\n",
    "    print('number  of Outliers are :',len(outlier))\n",
    "    return '***************************************************************'\n",
    "for i in num_cols:\n",
    "    print(outliers(df,i))"
   ]
  },
  {
   "cell_type": "markdown",
   "metadata": {},
   "source": [
    "### Observation  \n",
    "Any value outside the lower bound and upper bound for columns regarding float datatype are called as Outliers."
   ]
  },
  {
   "cell_type": "markdown",
   "metadata": {},
   "source": [
    "### IQR for all the numerical columns."
   ]
  },
  {
   "cell_type": "code",
   "execution_count": 16,
   "metadata": {},
   "outputs": [
    {
     "name": "stdout",
     "output_type": "stream",
     "text": [
      "assists               0.000000\n",
      "boosts                2.000000\n",
      "damageDealt         185.900000\n",
      "DBNOs                 1.000000\n",
      "headshotKills         0.000000\n",
      "heals                 2.000000\n",
      "killPlace            47.000000\n",
      "killPoints         1171.000000\n",
      "kills                 1.000000\n",
      "killStreaks           1.000000\n",
      "longestKill          21.330000\n",
      "matchDuration       484.000000\n",
      "maxPlace             21.000000\n",
      "numGroups            20.000000\n",
      "rankPoints         1501.000000\n",
      "revives               0.000000\n",
      "rideDistance          0.079275\n",
      "roadKills             0.000000\n",
      "swimDistance          0.000000\n",
      "teamKills             0.000000\n",
      "vehicleDestroys       0.000000\n",
      "walkDistance       1819.800000\n",
      "weaponsAcquired       3.000000\n",
      "winPoints          1495.000000\n",
      "winPlacePerc          0.540700\n",
      "dtype: float64\n"
     ]
    }
   ],
   "source": [
    "Q1 = df.quantile(0.25)\n",
    "Q3 = df.quantile(0.75)\n",
    "IQR = Q3 - Q1\n",
    "print(IQR)"
   ]
  },
  {
   "cell_type": "markdown",
   "metadata": {},
   "source": [
    "##### c) Visualizing the data.\n",
    "- Data visualization is useful for data cleaning, data exploration, detecting outliers, identifying trends and clusters etc.  \n",
    "`The list of data visualization plots to spot the outliers:`  \n",
    "1. Box and whisker plot (box plot).\n",
    "2. Scatter plot.\n",
    "3. Histogram.\n",
    "4. Distribution Plot.\n",
    "5. QQ plot."
   ]
  },
  {
   "cell_type": "code",
   "execution_count": 17,
   "metadata": {},
   "outputs": [],
   "source": [
    "import warnings\n",
    "warnings.filterwarnings(\"ignore\")"
   ]
  },
  {
   "cell_type": "markdown",
   "metadata": {},
   "source": [
    "### Probability and Frequency Distribution for each numerical column."
   ]
  },
  {
   "cell_type": "code",
   "execution_count": 18,
   "metadata": {},
   "outputs": [
    {
     "data": {
      "image/png": "[encoded data removed]",
      "text/plain": [
       "<Figure size 1440x864 with 25 Axes>"
      ]
     },
     "metadata": {
      "needs_background": "light"
     },
     "output_type": "display_data"
    }
   ],
   "source": [
    "numerical_columns = df.select_dtypes(include=['int64','float64'])\n",
    "numerical_columns.hist(figsize = (20,12))\n",
    "plt.show()"
   ]
  },
  {
   "cell_type": "markdown",
   "metadata": {},
   "source": [
    "### Observation  \n",
    "From the above plot we can see the probability and frequency distribution of each numerical plot."
   ]
  },
  {
   "cell_type": "markdown",
   "metadata": {},
   "source": [
    "- assists - `Number of enemy players this player damaged that were killed by teammates`."
   ]
  },
  {
   "cell_type": "code",
   "execution_count": 19,
   "metadata": {},
   "outputs": [
    {
     "data": {
      "image/png": "[encoded data removed]",
      "text/plain": [
       "<Figure size 432x288 with 1 Axes>"
      ]
     },
     "metadata": {
      "needs_background": "light"
     },
     "output_type": "display_data"
    }
   ],
   "source": [
    "# probability and frequency using barplot.\n",
    "df['assists'].value_counts().head().plot(kind = \"barh\", color = sns.color_palette(\"hls\", 5))\n",
    "plt.ylabel(\"assists\")\n",
    "plt.xlabel(\"Count\")\n",
    "plt.title(\"assists\")\n",
    "plt.show()"
   ]
  },
  {
   "cell_type": "markdown",
   "metadata": {},
   "source": [
    "### Observation\n",
    "As we all know that assists in PUBG means number of enemy players this player damaged that were killed by teammates. By this distribution we can say that most of them did not damaged the players that were killed by teammates."
   ]
  },
  {
   "cell_type": "markdown",
   "metadata": {},
   "source": [
    "- boosts - `Number of boost items used`."
   ]
  },
  {
   "cell_type": "code",
   "execution_count": 20,
   "metadata": {},
   "outputs": [
    {
     "data": {
      "image/png": "[encoded data removed]",
      "text/plain": [
       "<Figure size 1080x360 with 2 Axes>"
      ]
     },
     "metadata": {
      "needs_background": "light"
     },
     "output_type": "display_data"
    }
   ],
   "source": [
    "# Q-Qplot for boosts.\n",
    "plt.figure(1,figsize=(15,5))\n",
    "plt.subplot(121)\n",
    "stats.probplot(df['boosts'], dist=\"norm\", plot=plt)\n",
    "plt.title(\"Q-Q plot for boosts\")\n",
    "plt.grid()\n",
    "\n",
    "# Barplot for boosts.\n",
    "plt.subplot(122)\n",
    "df['boosts'].value_counts().head().plot(kind = \"barh\", color = sns.color_palette(\"hls\", 5))\n",
    "plt.ylabel(\"boosts\")\n",
    "plt.xlabel(\"Count\")\n",
    "plt.title(\"boosts\")\n",
    "plt.show()"
   ]
  },
  {
   "cell_type": "markdown",
   "metadata": {},
   "source": [
    "### Observation  \n",
    "- From Q-Q plot for boosts, we can say that there is a lot of discrepancy in the plot, as it is not normally distributed we can say that there ar outliers in the data.\n",
    "- From barplot, we can say that most of them have not used boosts items."
   ]
  },
  {
   "cell_type": "markdown",
   "metadata": {},
   "source": [
    "- DamageDealt - `Total damage dealt`"
   ]
  },
  {
   "cell_type": "code",
   "execution_count": 21,
   "metadata": {},
   "outputs": [
    {
     "data": {
      "image/png": "[encoded data removed]",
      "text/plain": [
       "<Figure size 1080x360 with 2 Axes>"
      ]
     },
     "metadata": {
      "needs_background": "light"
     },
     "output_type": "display_data"
    }
   ],
   "source": [
    "# Q-Qplot for damageDealt.\n",
    "plt.figure(1,figsize=(15,5))\n",
    "plt.subplot(121)\n",
    "stats.probplot(df['damageDealt'], dist=\"norm\", plot=plt)\n",
    "plt.title(\"Q-Q plot for damageDealt\")\n",
    "plt.grid()\n",
    "\n",
    "# Barplot for damageDealt.\n",
    "plt.subplot(122)\n",
    "df['damageDealt'].value_counts().head().plot(kind = \"barh\", color = sns.color_palette(\"hls\", 5))\n",
    "plt.ylabel(\"damageDealt\")\n",
    "plt.xlabel(\"Count\")\n",
    "plt.title(\"damageDealt\")\n",
    "plt.show()"
   ]
  },
  {
   "cell_type": "markdown",
   "metadata": {},
   "source": [
    "### Observation  \n",
    "- From Q-Q plot for Damagedealt, we can say that there is a lot of discrepancy in the plot, as it is not normally distributed we can say that there ar outliers in the data.\n",
    "- From barplot, we can say that most of them have damagedealt as zero as self inflicted damage is subtracted."
   ]
  },
  {
   "cell_type": "markdown",
   "metadata": {},
   "source": [
    "- DBNOs - `Number of enemy players knocked.`"
   ]
  },
  {
   "cell_type": "code",
   "execution_count": 22,
   "metadata": {},
   "outputs": [
    {
     "data": {
      "image/png": "[encoded data removed]",
      "text/plain": [
       "<Figure size 1080x360 with 2 Axes>"
      ]
     },
     "metadata": {
      "needs_background": "light"
     },
     "output_type": "display_data"
    }
   ],
   "source": [
    "# Q-Qplot for DBNOs.\n",
    "plt.figure(1,figsize=(15,5))\n",
    "plt.subplot(121)\n",
    "stats.probplot(df['DBNOs'], dist=\"norm\", plot=plt)\n",
    "plt.title(\"Q-Q plot for DBNOs\")\n",
    "plt.grid()\n",
    "\n",
    "# Barplot for DBNOs.\n",
    "plt.subplot(122)\n",
    "df['DBNOs'].value_counts().head().plot(kind = \"barh\", color = sns.color_palette(\"hls\", 5))\n",
    "plt.ylabel(\"DBNOs\")\n",
    "plt.xlabel(\"Count\")\n",
    "plt.title(\"DBNOs\")\n",
    "plt.show()"
   ]
  },
  {
   "cell_type": "markdown",
   "metadata": {},
   "source": [
    "### Observation  \n",
    "- From Q-Q plot for DBNOs, we can say that there is a lot of discrepancy in the plot, as it is not normally distributed we can say that there ar outliers in the data.\n",
    "- From barplot, we can say that most of them have DBNOs(Number of enemy players knocked) as zero."
   ]
  },
  {
   "cell_type": "markdown",
   "metadata": {},
   "source": [
    "- headshotKills -  `Number of enemy players killed with headshots`."
   ]
  },
  {
   "cell_type": "code",
   "execution_count": 23,
   "metadata": {},
   "outputs": [
    {
     "data": {
      "image/png": "[encoded data removed]",
      "text/plain": [
       "<Figure size 1080x360 with 2 Axes>"
      ]
     },
     "metadata": {
      "needs_background": "light"
     },
     "output_type": "display_data"
    }
   ],
   "source": [
    "# Q-Qplot for headshotKills.\n",
    "plt.figure(1,figsize=(15,5))\n",
    "plt.subplot(121)\n",
    "stats.probplot(df['headshotKills'], dist=\"norm\", plot=plt)\n",
    "plt.title(\"Q-Q plot for headshotKills\")\n",
    "plt.grid()\n",
    "\n",
    "# Barplot for headshotKills.\n",
    "plt.subplot(122)\n",
    "df['headshotKills'].value_counts().head().plot(kind = \"barh\", color = sns.color_palette(\"hls\", 5))\n",
    "plt.ylabel(\"headshotKills\")\n",
    "plt.xlabel(\"Count\")\n",
    "plt.title(\"headshotKills\")\n",
    "plt.show()"
   ]
  },
  {
   "cell_type": "markdown",
   "metadata": {},
   "source": [
    "### Observation  \n",
    "- From Q-Q plot for headshotkills, we can say that there is a lot of discrepancy in the data, as it is not normally distributed we can say that there ar outliers in the data.\n",
    "- From barplot, we can say that most of them have headshotkills as zero."
   ]
  },
  {
   "cell_type": "markdown",
   "metadata": {},
   "source": [
    "- heals - `Number of healing items used`."
   ]
  },
  {
   "cell_type": "code",
   "execution_count": 24,
   "metadata": {},
   "outputs": [
    {
     "data": {
      "image/png": "[encoded data removed]",
      "text/plain": [
       "<Figure size 1080x360 with 2 Axes>"
      ]
     },
     "metadata": {
      "needs_background": "light"
     },
     "output_type": "display_data"
    }
   ],
   "source": [
    "# Q-Qplot for heals.\n",
    "plt.figure(1,figsize=(15,5))\n",
    "plt.subplot(121)\n",
    "stats.probplot(df['heals'], dist=\"norm\", plot=plt)\n",
    "plt.title(\"Q-Q plot for heals\")\n",
    "plt.grid()\n",
    "\n",
    "# Barplot for heals.\n",
    "plt.subplot(122)\n",
    "df['heals'].value_counts().head().plot(kind = \"barh\", color = sns.color_palette(\"hls\", 5))\n",
    "plt.ylabel(\"heals\")\n",
    "plt.xlabel(\"Count\")\n",
    "plt.title(\"heals\")\n",
    "plt.show()"
   ]
  },
  {
   "cell_type": "markdown",
   "metadata": {},
   "source": [
    "### Observation  \n",
    "- From Q-Q plot, we can say that there is a lot of discrepancy in the data, as it is not normally distributed we can say that there ar outliers in the data.\n",
    "- From barplot, we can say that most of them used healing items as zero."
   ]
  },
  {
   "cell_type": "markdown",
   "metadata": {},
   "source": [
    "- killPlace - Ranking in match of number of enemy players killed.\n",
    "- killPoints - Kills-based external ranking of players. (Think of this as an Elo ranking where only kills matter.) If there   is a value other than -1 in rankPoints, then any 0 in killPoints should be treated as a “None”.\n",
    "- killStreaks - Max number of enemy players killed in a short amount of time.\n",
    "- kills - Number of enemy players killed.\n",
    "- longestKill - Longest distance between player and player killed at time of death. This may be misleading, as downing a     player and driving away may lead to a large longestKill stat."
   ]
  },
  {
   "cell_type": "code",
   "execution_count": 25,
   "metadata": {},
   "outputs": [
    {
     "data": {
      "image/png": "[encoded data removed]",
      "text/plain": [
       "<Figure size 1080x360 with 2 Axes>"
      ]
     },
     "metadata": {
      "needs_background": "light"
     },
     "output_type": "display_data"
    },
    {
     "data": {
      "image/png": "[encoded data removed]",
      "text/plain": [
       "<Figure size 1080x360 with 2 Axes>"
      ]
     },
     "metadata": {
      "needs_background": "light"
     },
     "output_type": "display_data"
    },
    {
     "data": {
      "image/png": "[encoded data removed]",
      "text/plain": [
       "<Figure size 1080x360 with 2 Axes>"
      ]
     },
     "metadata": {
      "needs_background": "light"
     },
     "output_type": "display_data"
    },
    {
     "data": {
      "image/png": "[encoded data removed]",
      "text/plain": [
       "<Figure size 1080x360 with 2 Axes>"
      ]
     },
     "metadata": {
      "needs_background": "light"
     },
     "output_type": "display_data"
    },
    {
     "data": {
      "image/png": "[encoded data removed]",
      "text/plain": [
       "<Figure size 1080x360 with 2 Axes>"
      ]
     },
     "metadata": {
      "needs_background": "light"
     },
     "output_type": "display_data"
    }
   ],
   "source": [
    "# Q-Qplot for killPlace.\n",
    "plt.figure(1,figsize=(15,5))\n",
    "plt.subplot(121)\n",
    "stats.probplot(df['killPlace'], dist=\"norm\", plot=plt)\n",
    "plt.title(\"Q-Q plot for killPlace\")\n",
    "plt.grid()\n",
    "# Barplot for killPlace.\n",
    "plt.subplot(122)\n",
    "df['killPlace'].value_counts().head().plot(kind = \"barh\", color = sns.color_palette(\"hls\", 5))\n",
    "plt.ylabel(\"killPlace\")\n",
    "plt.xlabel(\"Count\")\n",
    "plt.title(\"killPlace\")\n",
    "plt.show()\n",
    "\n",
    "# Q-Qplot for killPoints.\n",
    "plt.figure(1,figsize=(15,5))\n",
    "plt.subplot(121)\n",
    "stats.probplot(df['killPoints'], dist=\"norm\", plot=plt)\n",
    "plt.title(\"Q-Q plot for killPoints\")\n",
    "plt.grid()\n",
    "# Barplot for killPoints.\n",
    "plt.subplot(122)\n",
    "df['killPoints'].value_counts().head().plot(kind = \"barh\", color = sns.color_palette(\"hls\", 5))\n",
    "plt.ylabel(\"killPoints\")\n",
    "plt.xlabel(\"Count\")\n",
    "plt.title(\"killPoints\")\n",
    "plt.show()\n",
    "\n",
    "# Q-Qplot for killStreaks.\n",
    "plt.figure(1,figsize=(15,5))\n",
    "plt.subplot(121)\n",
    "stats.probplot(df['killStreaks'], dist=\"norm\", plot=plt)\n",
    "plt.title(\"Q-Q plot for killStreaks\")\n",
    "plt.grid()\n",
    "# Barplot for killStreaks.\n",
    "plt.subplot(122)\n",
    "df['killStreaks'].value_counts().head().plot(kind = \"barh\", color = sns.color_palette(\"hls\", 5))\n",
    "plt.ylabel(\"killStreaks\")\n",
    "plt.xlabel(\"Count\")\n",
    "plt.title(\"killStreaks\")\n",
    "plt.show()\n",
    "\n",
    "# Q-Qplot for kills.\n",
    "plt.figure(1,figsize=(15,5))\n",
    "plt.subplot(121)\n",
    "stats.probplot(df['kills'], dist=\"norm\", plot=plt)\n",
    "plt.title(\"Q-Q plot for kills\")\n",
    "plt.grid()\n",
    "# Barplot for kills.\n",
    "plt.subplot(122)\n",
    "df['kills'].value_counts().head().plot(kind = \"barh\", color = sns.color_palette(\"hls\", 5))\n",
    "plt.ylabel(\"kills\")\n",
    "plt.xlabel(\"Count\")\n",
    "plt.title(\"kills\")\n",
    "plt.show()\n",
    "\n",
    "# Q-Qplot for longestKill.\n",
    "plt.figure(1,figsize=(15,5))\n",
    "plt.subplot(121)\n",
    "stats.probplot(df['longestKill'], dist=\"norm\", plot=plt)\n",
    "plt.title(\"Q-Q plot for longestKill\")\n",
    "plt.grid()\n",
    "# Barplot for longestKill.\n",
    "plt.subplot(122)\n",
    "df['longestKill'].value_counts().head().plot(kind = \"barh\", color = sns.color_palette(\"hls\", 5))\n",
    "plt.ylabel(\"longestKill\")\n",
    "plt.xlabel(\"Count\")\n",
    "plt.title(\"longestKill\")\n",
    "plt.show()"
   ]
  },
  {
   "cell_type": "markdown",
   "metadata": {},
   "source": [
    "### Observation  \n",
    "- From Q-Q plot, we can say that there is a lot of discrepancy in the data, as it is not normally distributed we can say that there ar outliers in the data.\n",
    "- From barplot for killplace, we can say that most of them used `4,6,7,17 and 36`.\n",
    "- From barplot for killpoints, we can say that most of them have no killpoints.\n",
    "- From barplot for killstreaks, we can say that most of them have no killstreaks.\n",
    "- From barplot for kills, we can say that most of them have not killed any players.\n",
    "- From barplot for longestkill, we can say that most of them have distance as 0."
   ]
  },
  {
   "cell_type": "markdown",
   "metadata": {},
   "source": [
    "- matchDuration - `Duration of match in seconds`."
   ]
  },
  {
   "cell_type": "code",
   "execution_count": 26,
   "metadata": {},
   "outputs": [
    {
     "data": {
      "image/png": "[encoded data removed]",
      "text/plain": [
       "<Figure size 432x288 with 1 Axes>"
      ]
     },
     "metadata": {
      "needs_background": "light"
     },
     "output_type": "display_data"
    }
   ],
   "source": [
    "df['matchDuration'].value_counts().head().plot(kind = \"barh\", color = sns.color_palette(\"hls\", 5))\n",
    "plt.ylabel(\"matchDuration\")\n",
    "plt.xlabel(\"Count\")\n",
    "plt.title(\"matchDuration\")\n",
    "plt.show()"
   ]
  },
  {
   "cell_type": "markdown",
   "metadata": {},
   "source": [
    "### Observation  \n",
    "From barplot, we can say that most of the matches have played in the duration of `1384,1374,1376,1381,1377` seconds."
   ]
  },
  {
   "cell_type": "markdown",
   "metadata": {},
   "source": [
    "- vehicleDestroys - Number of vehicles destroyed."
   ]
  },
  {
   "cell_type": "code",
   "execution_count": 27,
   "metadata": {},
   "outputs": [
    {
     "data": {
      "image/png": "[encoded data removed]",
      "text/plain": [
       "<Figure size 432x288 with 1 Axes>"
      ]
     },
     "metadata": {
      "needs_background": "light"
     },
     "output_type": "display_data"
    }
   ],
   "source": [
    "df['vehicleDestroys'].value_counts().head(11).plot(kind = \"barh\", color = sns.color_palette(\"hls\", 5))\n",
    "plt.ylabel(\"vehicleDestroys\")\n",
    "plt.xlabel(\"Count\")\n",
    "plt.title(\"vehicleDestroys\")\n",
    "plt.show()"
   ]
  },
  {
   "cell_type": "markdown",
   "metadata": {},
   "source": [
    "### Observation  \n",
    "From barplot, we can say that most of them have not destroyed any vehicles."
   ]
  },
  {
   "cell_type": "markdown",
   "metadata": {},
   "source": [
    "### Frequency Distribution of Categorical Columns."
   ]
  },
  {
   "cell_type": "code",
   "execution_count": 28,
   "metadata": {},
   "outputs": [
    {
     "data": {
      "image/png": "[encoded data removed]",
      "text/plain": [
       "<Figure size 432x288 with 1 Axes>"
      ]
     },
     "metadata": {
      "needs_background": "light"
     },
     "output_type": "display_data"
    }
   ],
   "source": [
    "df['vehicleDestroys'].value_counts().head(11).plot(kind = \"barh\", color = sns.color_palette(\"hls\", 5))\n",
    "plt.ylabel(\"vehicleDestroys\")\n",
    "plt.xlabel(\"Count\")\n",
    "plt.title(\"vehicleDestroys\")\n",
    "plt.show()"
   ]
  },
  {
   "cell_type": "markdown",
   "metadata": {},
   "source": [
    "### Step6 - Bivariate Analysis."
   ]
  },
  {
   "cell_type": "markdown",
   "metadata": {},
   "source": [
    "#### 1) The relationship between different numerical columns."
   ]
  },
  {
   "cell_type": "code",
   "execution_count": 29,
   "metadata": {},
   "outputs": [
    {
     "data": {
      "text/html": [
       "<div>\n",
       "<style scoped>\n",
       "    .dataframe tbody tr th:only-of-type {\n",
       "        vertical-align: middle;\n",
       "    }\n",
       "\n",
       "    .dataframe tbody tr th {\n",
       "        vertical-align: top;\n",
       "    }\n",
       "\n",
       "    .dataframe thead th {\n",
       "        text-align: right;\n",
       "    }\n",
       "</style>\n",
       "<table border=\"1\" class=\"dataframe\">\n",
       "  <thead>\n",
       "    <tr style=\"text-align: right;\">\n",
       "      <th></th>\n",
       "      <th></th>\n",
       "      <th>DBNOs</th>\n",
       "      <th>assists</th>\n",
       "      <th>boosts</th>\n",
       "      <th>damageDealt</th>\n",
       "      <th>headshotKills</th>\n",
       "      <th>heals</th>\n",
       "      <th>killPlace</th>\n",
       "      <th>killPoints</th>\n",
       "      <th>killStreaks</th>\n",
       "      <th>longestKill</th>\n",
       "      <th>...</th>\n",
       "      <th>revives</th>\n",
       "      <th>rideDistance</th>\n",
       "      <th>roadKills</th>\n",
       "      <th>swimDistance</th>\n",
       "      <th>teamKills</th>\n",
       "      <th>vehicleDestroys</th>\n",
       "      <th>walkDistance</th>\n",
       "      <th>weaponsAcquired</th>\n",
       "      <th>winPlacePerc</th>\n",
       "      <th>winPoints</th>\n",
       "    </tr>\n",
       "    <tr>\n",
       "      <th>matchDuration</th>\n",
       "      <th>kills</th>\n",
       "      <th></th>\n",
       "      <th></th>\n",
       "      <th></th>\n",
       "      <th></th>\n",
       "      <th></th>\n",
       "      <th></th>\n",
       "      <th></th>\n",
       "      <th></th>\n",
       "      <th></th>\n",
       "      <th></th>\n",
       "      <th></th>\n",
       "      <th></th>\n",
       "      <th></th>\n",
       "      <th></th>\n",
       "      <th></th>\n",
       "      <th></th>\n",
       "      <th></th>\n",
       "      <th></th>\n",
       "      <th></th>\n",
       "      <th></th>\n",
       "      <th></th>\n",
       "    </tr>\n",
       "  </thead>\n",
       "  <tbody>\n",
       "    <tr>\n",
       "      <th>9</th>\n",
       "      <th>0</th>\n",
       "      <td>0.0</td>\n",
       "      <td>0.0</td>\n",
       "      <td>0.0</td>\n",
       "      <td>0.00</td>\n",
       "      <td>0.0</td>\n",
       "      <td>0.0</td>\n",
       "      <td>1.000000</td>\n",
       "      <td>0.0</td>\n",
       "      <td>0.0</td>\n",
       "      <td>0.000</td>\n",
       "      <td>...</td>\n",
       "      <td>0.0</td>\n",
       "      <td>0.0</td>\n",
       "      <td>0.0</td>\n",
       "      <td>0.0</td>\n",
       "      <td>0.0</td>\n",
       "      <td>0.0</td>\n",
       "      <td>0.000000</td>\n",
       "      <td>0.0</td>\n",
       "      <td>0.472787</td>\n",
       "      <td>0.0</td>\n",
       "    </tr>\n",
       "    <tr>\n",
       "      <th>133</th>\n",
       "      <th>0</th>\n",
       "      <td>0.0</td>\n",
       "      <td>0.0</td>\n",
       "      <td>0.0</td>\n",
       "      <td>0.00</td>\n",
       "      <td>0.0</td>\n",
       "      <td>0.0</td>\n",
       "      <td>2.000000</td>\n",
       "      <td>0.0</td>\n",
       "      <td>0.0</td>\n",
       "      <td>0.000</td>\n",
       "      <td>...</td>\n",
       "      <td>0.0</td>\n",
       "      <td>0.0</td>\n",
       "      <td>0.0</td>\n",
       "      <td>0.0</td>\n",
       "      <td>0.0</td>\n",
       "      <td>0.0</td>\n",
       "      <td>0.000000</td>\n",
       "      <td>2.0</td>\n",
       "      <td>0.000000</td>\n",
       "      <td>0.0</td>\n",
       "    </tr>\n",
       "    <tr>\n",
       "      <th rowspan=\"3\" valign=\"top\">209</th>\n",
       "      <th>0</th>\n",
       "      <td>0.0</td>\n",
       "      <td>1.0</td>\n",
       "      <td>0.0</td>\n",
       "      <td>36.54</td>\n",
       "      <td>0.0</td>\n",
       "      <td>0.0</td>\n",
       "      <td>16.000000</td>\n",
       "      <td>1000.0</td>\n",
       "      <td>0.0</td>\n",
       "      <td>0.000</td>\n",
       "      <td>...</td>\n",
       "      <td>0.0</td>\n",
       "      <td>0.0</td>\n",
       "      <td>0.0</td>\n",
       "      <td>0.0</td>\n",
       "      <td>0.0</td>\n",
       "      <td>0.0</td>\n",
       "      <td>49.210000</td>\n",
       "      <td>0.0</td>\n",
       "      <td>0.333300</td>\n",
       "      <td>1500.0</td>\n",
       "    </tr>\n",
       "    <tr>\n",
       "      <th>1</th>\n",
       "      <td>1.0</td>\n",
       "      <td>1.0</td>\n",
       "      <td>0.0</td>\n",
       "      <td>44.56</td>\n",
       "      <td>0.0</td>\n",
       "      <td>0.0</td>\n",
       "      <td>9.000000</td>\n",
       "      <td>1000.0</td>\n",
       "      <td>1.0</td>\n",
       "      <td>1.229</td>\n",
       "      <td>...</td>\n",
       "      <td>0.0</td>\n",
       "      <td>0.0</td>\n",
       "      <td>0.0</td>\n",
       "      <td>0.0</td>\n",
       "      <td>0.0</td>\n",
       "      <td>0.0</td>\n",
       "      <td>63.640000</td>\n",
       "      <td>0.0</td>\n",
       "      <td>0.111100</td>\n",
       "      <td>1500.0</td>\n",
       "    </tr>\n",
       "    <tr>\n",
       "      <th>2</th>\n",
       "      <td>1.0</td>\n",
       "      <td>1.0</td>\n",
       "      <td>0.0</td>\n",
       "      <td>94.04</td>\n",
       "      <td>1.0</td>\n",
       "      <td>0.0</td>\n",
       "      <td>5.000000</td>\n",
       "      <td>1000.0</td>\n",
       "      <td>2.0</td>\n",
       "      <td>1.142</td>\n",
       "      <td>...</td>\n",
       "      <td>0.0</td>\n",
       "      <td>0.0</td>\n",
       "      <td>0.0</td>\n",
       "      <td>0.0</td>\n",
       "      <td>0.0</td>\n",
       "      <td>0.0</td>\n",
       "      <td>50.250000</td>\n",
       "      <td>0.0</td>\n",
       "      <td>0.444400</td>\n",
       "      <td>1500.0</td>\n",
       "    </tr>\n",
       "    <tr>\n",
       "      <th>246</th>\n",
       "      <th>0</th>\n",
       "      <td>0.5</td>\n",
       "      <td>1.0</td>\n",
       "      <td>1.0</td>\n",
       "      <td>95.99</td>\n",
       "      <td>0.0</td>\n",
       "      <td>0.5</td>\n",
       "      <td>7.000000</td>\n",
       "      <td>1000.0</td>\n",
       "      <td>0.0</td>\n",
       "      <td>0.000</td>\n",
       "      <td>...</td>\n",
       "      <td>0.0</td>\n",
       "      <td>0.0</td>\n",
       "      <td>0.0</td>\n",
       "      <td>0.0</td>\n",
       "      <td>0.0</td>\n",
       "      <td>0.0</td>\n",
       "      <td>212.850000</td>\n",
       "      <td>3.0</td>\n",
       "      <td>0.500000</td>\n",
       "      <td>1500.0</td>\n",
       "    </tr>\n",
       "    <tr>\n",
       "      <th rowspan=\"2\" valign=\"top\">248</th>\n",
       "      <th>0</th>\n",
       "      <td>0.0</td>\n",
       "      <td>0.0</td>\n",
       "      <td>0.0</td>\n",
       "      <td>32.25</td>\n",
       "      <td>0.0</td>\n",
       "      <td>0.0</td>\n",
       "      <td>7.333333</td>\n",
       "      <td>1000.0</td>\n",
       "      <td>0.0</td>\n",
       "      <td>0.000</td>\n",
       "      <td>...</td>\n",
       "      <td>0.0</td>\n",
       "      <td>0.0</td>\n",
       "      <td>0.0</td>\n",
       "      <td>0.0</td>\n",
       "      <td>0.0</td>\n",
       "      <td>0.0</td>\n",
       "      <td>96.946667</td>\n",
       "      <td>2.0</td>\n",
       "      <td>0.515167</td>\n",
       "      <td>1500.0</td>\n",
       "    </tr>\n",
       "    <tr>\n",
       "      <th>1</th>\n",
       "      <td>0.0</td>\n",
       "      <td>0.0</td>\n",
       "      <td>0.0</td>\n",
       "      <td>100.00</td>\n",
       "      <td>0.0</td>\n",
       "      <td>0.0</td>\n",
       "      <td>5.000000</td>\n",
       "      <td>1000.0</td>\n",
       "      <td>1.0</td>\n",
       "      <td>1.839</td>\n",
       "      <td>...</td>\n",
       "      <td>0.0</td>\n",
       "      <td>0.0</td>\n",
       "      <td>0.0</td>\n",
       "      <td>0.0</td>\n",
       "      <td>0.0</td>\n",
       "      <td>0.0</td>\n",
       "      <td>35.530000</td>\n",
       "      <td>1.0</td>\n",
       "      <td>0.272700</td>\n",
       "      <td>1500.0</td>\n",
       "    </tr>\n",
       "    <tr>\n",
       "      <th rowspan=\"2\" valign=\"top\">250</th>\n",
       "      <th>0</th>\n",
       "      <td>0.0</td>\n",
       "      <td>0.0</td>\n",
       "      <td>0.0</td>\n",
       "      <td>17.10</td>\n",
       "      <td>0.0</td>\n",
       "      <td>0.0</td>\n",
       "      <td>11.000000</td>\n",
       "      <td>1000.0</td>\n",
       "      <td>0.0</td>\n",
       "      <td>0.000</td>\n",
       "      <td>...</td>\n",
       "      <td>0.0</td>\n",
       "      <td>0.0</td>\n",
       "      <td>0.0</td>\n",
       "      <td>0.0</td>\n",
       "      <td>0.0</td>\n",
       "      <td>0.0</td>\n",
       "      <td>15.030000</td>\n",
       "      <td>0.0</td>\n",
       "      <td>0.285700</td>\n",
       "      <td>1500.0</td>\n",
       "    </tr>\n",
       "    <tr>\n",
       "      <th>1</th>\n",
       "      <td>0.0</td>\n",
       "      <td>0.0</td>\n",
       "      <td>0.0</td>\n",
       "      <td>168.00</td>\n",
       "      <td>0.0</td>\n",
       "      <td>0.0</td>\n",
       "      <td>6.000000</td>\n",
       "      <td>1000.0</td>\n",
       "      <td>1.0</td>\n",
       "      <td>19.200</td>\n",
       "      <td>...</td>\n",
       "      <td>0.0</td>\n",
       "      <td>0.0</td>\n",
       "      <td>0.0</td>\n",
       "      <td>0.0</td>\n",
       "      <td>0.0</td>\n",
       "      <td>0.0</td>\n",
       "      <td>78.990000</td>\n",
       "      <td>2.0</td>\n",
       "      <td>0.500000</td>\n",
       "      <td>1500.0</td>\n",
       "    </tr>\n",
       "  </tbody>\n",
       "</table>\n",
       "<p>10 rows × 23 columns</p>\n",
       "</div>"
      ],
      "text/plain": [
       "                     DBNOs  assists  boosts  damageDealt  headshotKills  \\\n",
       "matchDuration kills                                                       \n",
       "9             0        0.0      0.0     0.0         0.00            0.0   \n",
       "133           0        0.0      0.0     0.0         0.00            0.0   \n",
       "209           0        0.0      1.0     0.0        36.54            0.0   \n",
       "              1        1.0      1.0     0.0        44.56            0.0   \n",
       "              2        1.0      1.0     0.0        94.04            1.0   \n",
       "246           0        0.5      1.0     1.0        95.99            0.0   \n",
       "248           0        0.0      0.0     0.0        32.25            0.0   \n",
       "              1        0.0      0.0     0.0       100.00            0.0   \n",
       "250           0        0.0      0.0     0.0        17.10            0.0   \n",
       "              1        0.0      0.0     0.0       168.00            0.0   \n",
       "\n",
       "                     heals  killPlace  killPoints  killStreaks  longestKill  \\\n",
       "matchDuration kills                                                           \n",
       "9             0        0.0   1.000000         0.0          0.0        0.000   \n",
       "133           0        0.0   2.000000         0.0          0.0        0.000   \n",
       "209           0        0.0  16.000000      1000.0          0.0        0.000   \n",
       "              1        0.0   9.000000      1000.0          1.0        1.229   \n",
       "              2        0.0   5.000000      1000.0          2.0        1.142   \n",
       "246           0        0.5   7.000000      1000.0          0.0        0.000   \n",
       "248           0        0.0   7.333333      1000.0          0.0        0.000   \n",
       "              1        0.0   5.000000      1000.0          1.0        1.839   \n",
       "250           0        0.0  11.000000      1000.0          0.0        0.000   \n",
       "              1        0.0   6.000000      1000.0          1.0       19.200   \n",
       "\n",
       "                     ...  revives  rideDistance  roadKills  swimDistance  \\\n",
       "matchDuration kills  ...                                                   \n",
       "9             0      ...      0.0           0.0        0.0           0.0   \n",
       "133           0      ...      0.0           0.0        0.0           0.0   \n",
       "209           0      ...      0.0           0.0        0.0           0.0   \n",
       "              1      ...      0.0           0.0        0.0           0.0   \n",
       "              2      ...      0.0           0.0        0.0           0.0   \n",
       "246           0      ...      0.0           0.0        0.0           0.0   \n",
       "248           0      ...      0.0           0.0        0.0           0.0   \n",
       "              1      ...      0.0           0.0        0.0           0.0   \n",
       "250           0      ...      0.0           0.0        0.0           0.0   \n",
       "              1      ...      0.0           0.0        0.0           0.0   \n",
       "\n",
       "                     teamKills  vehicleDestroys  walkDistance  \\\n",
       "matchDuration kills                                             \n",
       "9             0            0.0              0.0      0.000000   \n",
       "133           0            0.0              0.0      0.000000   \n",
       "209           0            0.0              0.0     49.210000   \n",
       "              1            0.0              0.0     63.640000   \n",
       "              2            0.0              0.0     50.250000   \n",
       "246           0            0.0              0.0    212.850000   \n",
       "248           0            0.0              0.0     96.946667   \n",
       "              1            0.0              0.0     35.530000   \n",
       "250           0            0.0              0.0     15.030000   \n",
       "              1            0.0              0.0     78.990000   \n",
       "\n",
       "                     weaponsAcquired  winPlacePerc  winPoints  \n",
       "matchDuration kills                                            \n",
       "9             0                  0.0      0.472787        0.0  \n",
       "133           0                  2.0      0.000000        0.0  \n",
       "209           0                  0.0      0.333300     1500.0  \n",
       "              1                  0.0      0.111100     1500.0  \n",
       "              2                  0.0      0.444400     1500.0  \n",
       "246           0                  3.0      0.500000     1500.0  \n",
       "248           0                  2.0      0.515167     1500.0  \n",
       "              1                  1.0      0.272700     1500.0  \n",
       "250           0                  0.0      0.285700     1500.0  \n",
       "              1                  2.0      0.500000     1500.0  \n",
       "\n",
       "[10 rows x 23 columns]"
      ]
     },
     "execution_count": 29,
     "metadata": {},
     "output_type": "execute_result"
    }
   ],
   "source": [
    "cs = pd.pivot_table(df, index =['matchDuration','kills'])\n",
    "cs.head(10)"
   ]
  },
  {
   "cell_type": "markdown",
   "metadata": {},
   "source": [
    "### Observation  \n",
    "From the pivot table we can see that how the match duration is not an important criteria for kills and for any column. "
   ]
  },
  {
   "cell_type": "markdown",
   "metadata": {},
   "source": [
    "- revives and matchduration."
   ]
  },
  {
   "cell_type": "code",
   "execution_count": 30,
   "metadata": {},
   "outputs": [
    {
     "data": {
      "image/png": "[encoded data removed]",
      "text/plain": [
       "<Figure size 432x288 with 1 Axes>"
      ]
     },
     "metadata": {
      "needs_background": "light"
     },
     "output_type": "display_data"
    }
   ],
   "source": [
    "sns.barplot(x='revives', y='matchDuration', data=df)\n",
    "plt.show()"
   ]
  },
  {
   "cell_type": "markdown",
   "metadata": {},
   "source": [
    "### Observation  \n",
    "From the barplot, we can say that most of the revives are taken for match duration above 1750 for revives numbers of 9 and 14."
   ]
  },
  {
   "cell_type": "markdown",
   "metadata": {},
   "source": [
    "#### 2) The relationship between categorical and numerical columns."
   ]
  },
  {
   "cell_type": "markdown",
   "metadata": {},
   "source": [
    "- winpoints and matchtype"
   ]
  },
  {
   "cell_type": "code",
   "execution_count": 31,
   "metadata": {},
   "outputs": [
    {
     "data": {
      "image/png": "[encoded data removed]",
      "text/plain": [
       "<Figure size 432x288 with 1 Axes>"
      ]
     },
     "metadata": {
      "needs_background": "light"
     },
     "output_type": "display_data"
    }
   ],
   "source": [
    "sns.barplot(x='winPoints', y='matchType', data=df)\n",
    "plt.show()"
   ]
  },
  {
   "cell_type": "markdown",
   "metadata": {},
   "source": [
    "### Observation  \n",
    "From the barplot we can say that most of the points have happenend to be in the game of normal-duo and normal-duo-fpp."
   ]
  },
  {
   "cell_type": "markdown",
   "metadata": {},
   "source": [
    "- matchtype and Number of the Groups."
   ]
  },
  {
   "cell_type": "code",
   "execution_count": 32,
   "metadata": {},
   "outputs": [
    {
     "data": {
      "image/png": "[encoded data removed]",
      "text/plain": [
       "<Figure size 432x288 with 1 Axes>"
      ]
     },
     "metadata": {
      "needs_background": "light"
     },
     "output_type": "display_data"
    }
   ],
   "source": [
    "sns.barplot(x='numGroups', y='matchType', data=df)\n",
    "plt.show()"
   ]
  },
  {
   "cell_type": "markdown",
   "metadata": {},
   "source": [
    "### Observation  \n",
    "From the barplot we can say that most of the groups are present in the game of solo-fpp."
   ]
  },
  {
   "cell_type": "markdown",
   "metadata": {},
   "source": [
    "### Step7 - Hypothesis Testing."
   ]
  },
  {
   "cell_type": "markdown",
   "metadata": {},
   "source": [
    "#### Q) You have developed a new matchtype in PUBG and done a user study. You claim that the it is giving more winning points greater than 3000 than any other matchtype .How do you prove this to your client?"
   ]
  },
  {
   "cell_type": "markdown",
   "metadata": {},
   "source": [
    "Step - 1:\n",
    "- Alternate Hypothesis(Bold claim):$$ H_1: \\ \\mu > 3000 $$ \n",
    "- Null Hypothesis(Status Quote):$$ H_0: \\ \\mu \\leq 3000 $$\n",
    "\n",
    "Step - 2: \n",
    "- Collect a sample of size n = 10.$$[1000,2000,3500,4000,6000,5500,700,4000,800,1000]$$\n",
    "- After computing sample mean, we get $\\overline{x}$ as: $$\\overline{x} = 2850$$\n",
    "\n",
    "Step - 3: Compute Test Statistic:\n",
    "- If population variance is known$$ z = \\frac{\\bar{x} - \\mu}{\\sigma/\\sqrt[2]{n}}$$\n",
    "- If population variance is unknown: $$ t = \\frac{\\overline{x} - \\mu}{(s/\\sqrt[2]{n})}$$\n",
    "\n",
    "Step - 4: Considered significance level $ \\alpha = 0.95 $\n",
    "- Lower the $ \\alpha $ means we need stronger evidence to reject Null Hypothesis($ H_0 $)\n",
    "\n",
    "Step - 5: Apply Decision Rule\n",
    "- 5.1 \n",
    "- If test statistic is z-score\n",
    "  - Two tailed z-test:$$ |z|> z_\\frac{\\alpha}{2} \\Rightarrow Accept \\ H_1 \\ or \\ Reject \\ H_0$$\n",
    "  - Right tailed z-test:$$ z > z_\\alpha \\Rightarrow Accept \\ H_1 \\ or \\ Reject \\ H_0 $$\n",
    "  - Left tailed z-test:$$ z < lt; -z_\\alpha \\Rightarrow Accept \\ H_1 \\ or \\ Reject \\ H_0 $$\n",
    "  \n",
    "- As population variance is not given, we are applying t- test statistic, the conditions of t-test statistics are:\n",
    "  - Two tailed t-test: $$ |t|>t_{n-1,\\frac{\\alpha}{2}} \\Rightarrow Accept \\ H_1 \\ or \\ Reject \\ H_0 $$\n",
    "  - Right tailed t-test: $$ t>t_{n-1,\\alpha} \\Rightarrow Accept \\ H_1 \\ or \\ Reject \\ H_0 $$\n",
    "  - Left tailed t-test: $$ t<t_{n-1,\\alpha} \\Rightarrow Accept \\ H_1 \\ or \\ Reject \\ H_0 $$\n",
    " \n",
    "\n",
    "- 5.2 The another method is by computing p-value P(Test Statistics\\$ H_0 $) \n",
    " - For two tailed test:$$ p \\ value = 2 * (1.0 - cdf(test \\ statistic)) $$\n",
    " - For one tailed test:$$ p \\ value = (1.0 - cdf(test \\ statistic)) $$Now,$$ if (p \\ value &lt; \\alpha) \\Rightarrow Accept \\ H_1 \\ or \\ Reject \\ H_0 $$"
   ]
  },
  {
   "cell_type": "code",
   "execution_count": 33,
   "metadata": {},
   "outputs": [],
   "source": [
    "# Importing all the necessary libraries.\n",
    "\n",
    "import matplotlib.pyplot as plt\n",
    "import numpy as np\n",
    "from scipy.stats import norm\n",
    "from scipy.stats import t\n",
    "import statistics"
   ]
  },
  {
   "cell_type": "markdown",
   "metadata": {},
   "source": [
    "- As population variation is unknown, I will consider t-test and p-value."
   ]
  },
  {
   "cell_type": "code",
   "execution_count": 34,
   "metadata": {},
   "outputs": [
    {
     "name": "stdout",
     "output_type": "stream",
     "text": [
      "Sum of the Observations: 28500\n",
      "Number of Observations: 10\n",
      "Sample Mean = 2850.0\n",
      "Sample Standard Deviation: 2011.2185361118766\n"
     ]
    }
   ],
   "source": [
    "# Step2 Computing Sample mean for sample size n = 10 and Sample Standard Deviation.\n",
    "\n",
    "x = [1000,2000,3500,4000,6000,5500,700,4000,800,1000]\n",
    "print(\"Sum of the Observations:\",sum(x))\n",
    "print(\"Number of Observations:\",len(x))\n",
    "print(\"Sample Mean =\",sum(x)/len(x))\n",
    "sample_std = np.std(x, ddof=1)\n",
    "print(\"Sample Standard Deviation:\",sample_std)"
   ]
  },
  {
   "cell_type": "code",
   "execution_count": 35,
   "metadata": {},
   "outputs": [
    {
     "name": "stdout",
     "output_type": "stream",
     "text": [
      "Alpha: 0.050000000000000044\n",
      "t-critical value: 1.8331129326536335\n"
     ]
    }
   ],
   "source": [
    "# Step3 and Step4 are perfroming one- Tailed Test as Alternate Hypothesis is having greater than symbol,\n",
    "# considering confidence or significance level as 0.95 and calculating t-critical value.\n",
    "\n",
    "confidence_level = 0.95\n",
    "alpha = 1 - confidence_level\n",
    "t_critical =  t.ppf(1-(alpha),df=9) # one - tailed t-score for 95% Confidence Level\n",
    "print(\"Alpha:\",alpha)\n",
    "print(\"t-critical value:\",t_critical)"
   ]
  },
  {
   "cell_type": "code",
   "execution_count": 36,
   "metadata": {},
   "outputs": [],
   "source": [
    "# Required data for t-test and p-test.\n",
    "\n",
    "sample_size = 10\n",
    "sample_mean = 2850\n",
    "pop_mean = 3000\n",
    "sample_std = 2011.2185361118766"
   ]
  },
  {
   "cell_type": "code",
   "execution_count": 37,
   "metadata": {},
   "outputs": [
    {
     "name": "stdout",
     "output_type": "stream",
     "text": [
      "t-score: -0.23584789047452925\n"
     ]
    }
   ],
   "source": [
    "#t-score\n",
    "\n",
    "def t_score(sample_size, sample_mean, pop_mean, sample_std):\n",
    "    numerator = sample_mean - pop_mean\n",
    "    denominator = sample_std / (sample_size**0.5)\n",
    "    return numerator / denominator\n",
    "t = t_score(sample_size, sample_mean, pop_mean, sample_std)\n",
    "print(\"t-score:\",t)"
   ]
  },
  {
   "cell_type": "code",
   "execution_count": 38,
   "metadata": {},
   "outputs": [
    {
     "data": {
      "image/png": "[encoded data removed]",
      "text/plain": [
       "<Figure size 432x288 with 1 Axes>"
      ]
     },
     "metadata": {
      "needs_background": "light"
     },
     "output_type": "display_data"
    }
   ],
   "source": [
    "# Ploting the sampling distribution with rejection regions\n",
    "\n",
    "# Defining the x minimum and x maximum\n",
    "x_min = -2000\n",
    "x_max = 10000\n",
    "\n",
    "# Defining the sampling distribution mean and sampling distribution std\n",
    "mean = pop_mean\n",
    "std = sample_std\n",
    "\n",
    "# Ploting the graph and setting the x limits\n",
    "x = np.linspace(x_min, x_max, 100)\n",
    "y = norm.pdf(x, mean, std)\n",
    "plt.xlim(x_min, x_max)\n",
    "plt.plot(x, y)\n",
    "\n",
    "# Computing the right critical value (Right tailed Test)\n",
    "t_critical_right = pop_mean + (t_critical * std)\n",
    "\n",
    "# Shading the right rejection region\n",
    "x1 = np.linspace(t_critical_right, x_max, 100)\n",
    "y1 = norm.pdf(x1, mean, std)\n",
    "plt.fill_between(x1, y1, color='orange')\n",
    "\n",
    "# Ploting the sample mean and concluding the results \n",
    "plt.scatter(sample_mean, 0)\n",
    "plt.annotate(\"x_bar\", (sample_mean, 0))\n",
    "plt.show()"
   ]
  },
  {
   "cell_type": "code",
   "execution_count": 39,
   "metadata": {},
   "outputs": [
    {
     "name": "stdout",
     "output_type": "stream",
     "text": [
      "t-score -0.23584789047452925\n",
      "t_critical 1.8331129326536335\n",
      "Fail to reject Null Hypothesis\n"
     ]
    }
   ],
   "source": [
    "# Conclusion using t-test\n",
    "\n",
    "print(\"t-score\",t)\n",
    "print(\"t_critical\",t_critical)\n",
    "if(t > t_critical):\n",
    "    print(\"Reject Null Hypothesis\")\n",
    "else:\n",
    "    print(\"Fail to reject Null Hypothesis\")"
   ]
  },
  {
   "cell_type": "code",
   "execution_count": 40,
   "metadata": {},
   "outputs": [
    {
     "name": "stdout",
     "output_type": "stream",
     "text": [
      "p_value =  0.40677535248254193\n",
      "Alpha: 0.050000000000000044\n",
      "Fail to reject Null Hypothesis\n"
     ]
    }
   ],
   "source": [
    "# Conclusion using p test\n",
    "\n",
    "p_value = 1.0 - norm.cdf(np.abs(t))\n",
    "\n",
    "print(\"p_value = \", p_value)\n",
    "print(\"Alpha:\",alpha)\n",
    "\n",
    "if(p_value < alpha):\n",
    "    print(\"Reject Null Hypothesis\")\n",
    "else:\n",
    "    print(\"Fail to reject Null Hypothesis\")"
   ]
  },
  {
   "cell_type": "markdown",
   "metadata": {},
   "source": [
    "### Observation  \n",
    "As Null Hypothesis is rejected in both t-test and p-test then consider Alternate Hypothesis."
   ]
  },
  {
   "cell_type": "markdown",
   "metadata": {},
   "source": [
    "### Step8 - Feature Transformation\n",
    "- Feature transformation involves mapping a set of values for the feature to a new set of values to make the representation of the data more suitable or easier to process for the downstream analysis. A common feature transformation operation is scaling. This involves changing the range of values for a feature of features to another specified range. This is done to avoid allowing features with large values to dominate the analysis results.\n",
    "\n",
    "- There is a general process for preparing your data for Machine Learning.Part of this process includes data transformations like scaling and/or standardization. Very generally, Machine Learning models may perform better when feature distributions are approximately normal and when feature scales are similar.\n",
    "\n",
    "- Among all the different methods of feature transformation and scaling techniques, the most used techniques are MinMax Scaler(Data Normalization) and Standard Scaler(Data Standardization)."
   ]
  },
  {
   "cell_type": "markdown",
   "metadata": {},
   "source": [
    "- For Numerical Features -> Column Standardization"
   ]
  },
  {
   "cell_type": "code",
   "execution_count": 41,
   "metadata": {},
   "outputs": [
    {
     "data": {
      "text/html": [
       "<div>\n",
       "<style scoped>\n",
       "    .dataframe tbody tr th:only-of-type {\n",
       "        vertical-align: middle;\n",
       "    }\n",
       "\n",
       "    .dataframe tbody tr th {\n",
       "        vertical-align: top;\n",
       "    }\n",
       "\n",
       "    .dataframe thead th {\n",
       "        text-align: right;\n",
       "    }\n",
       "</style>\n",
       "<table border=\"1\" class=\"dataframe\">\n",
       "  <thead>\n",
       "    <tr style=\"text-align: right;\">\n",
       "      <th></th>\n",
       "      <th>assists</th>\n",
       "      <th>boosts</th>\n",
       "      <th>damageDealt</th>\n",
       "      <th>DBNOs</th>\n",
       "      <th>headshotKills</th>\n",
       "      <th>heals</th>\n",
       "      <th>killPlace</th>\n",
       "      <th>killPoints</th>\n",
       "      <th>kills</th>\n",
       "      <th>killStreaks</th>\n",
       "      <th>...</th>\n",
       "      <th>revives</th>\n",
       "      <th>rideDistance</th>\n",
       "      <th>roadKills</th>\n",
       "      <th>swimDistance</th>\n",
       "      <th>teamKills</th>\n",
       "      <th>vehicleDestroys</th>\n",
       "      <th>walkDistance</th>\n",
       "      <th>weaponsAcquired</th>\n",
       "      <th>winPoints</th>\n",
       "      <th>winPlacePerc</th>\n",
       "    </tr>\n",
       "  </thead>\n",
       "  <tbody>\n",
       "    <tr>\n",
       "      <th>0</th>\n",
       "      <td>0</td>\n",
       "      <td>0</td>\n",
       "      <td>25.93</td>\n",
       "      <td>0</td>\n",
       "      <td>0</td>\n",
       "      <td>0</td>\n",
       "      <td>84</td>\n",
       "      <td>1437</td>\n",
       "      <td>0</td>\n",
       "      <td>0</td>\n",
       "      <td>...</td>\n",
       "      <td>0</td>\n",
       "      <td>0.0</td>\n",
       "      <td>0</td>\n",
       "      <td>0.0</td>\n",
       "      <td>0</td>\n",
       "      <td>0</td>\n",
       "      <td>151.30</td>\n",
       "      <td>1</td>\n",
       "      <td>1525</td>\n",
       "      <td>0.0667</td>\n",
       "    </tr>\n",
       "    <tr>\n",
       "      <th>1</th>\n",
       "      <td>0</td>\n",
       "      <td>0</td>\n",
       "      <td>36.71</td>\n",
       "      <td>0</td>\n",
       "      <td>0</td>\n",
       "      <td>0</td>\n",
       "      <td>57</td>\n",
       "      <td>1225</td>\n",
       "      <td>0</td>\n",
       "      <td>0</td>\n",
       "      <td>...</td>\n",
       "      <td>0</td>\n",
       "      <td>0.0</td>\n",
       "      <td>0</td>\n",
       "      <td>0.0</td>\n",
       "      <td>0</td>\n",
       "      <td>0</td>\n",
       "      <td>1918.00</td>\n",
       "      <td>7</td>\n",
       "      <td>1516</td>\n",
       "      <td>0.5862</td>\n",
       "    </tr>\n",
       "    <tr>\n",
       "      <th>2</th>\n",
       "      <td>0</td>\n",
       "      <td>1</td>\n",
       "      <td>47.73</td>\n",
       "      <td>0</td>\n",
       "      <td>0</td>\n",
       "      <td>0</td>\n",
       "      <td>50</td>\n",
       "      <td>0</td>\n",
       "      <td>0</td>\n",
       "      <td>0</td>\n",
       "      <td>...</td>\n",
       "      <td>0</td>\n",
       "      <td>4088.0</td>\n",
       "      <td>0</td>\n",
       "      <td>0.0</td>\n",
       "      <td>0</td>\n",
       "      <td>0</td>\n",
       "      <td>820.00</td>\n",
       "      <td>7</td>\n",
       "      <td>0</td>\n",
       "      <td>0.8105</td>\n",
       "    </tr>\n",
       "    <tr>\n",
       "      <th>3</th>\n",
       "      <td>0</td>\n",
       "      <td>0</td>\n",
       "      <td>0.00</td>\n",
       "      <td>0</td>\n",
       "      <td>0</td>\n",
       "      <td>0</td>\n",
       "      <td>56</td>\n",
       "      <td>1286</td>\n",
       "      <td>0</td>\n",
       "      <td>0</td>\n",
       "      <td>...</td>\n",
       "      <td>1</td>\n",
       "      <td>0.0</td>\n",
       "      <td>0</td>\n",
       "      <td>0.0</td>\n",
       "      <td>0</td>\n",
       "      <td>0</td>\n",
       "      <td>38.81</td>\n",
       "      <td>0</td>\n",
       "      <td>1515</td>\n",
       "      <td>0.5556</td>\n",
       "    </tr>\n",
       "    <tr>\n",
       "      <th>4</th>\n",
       "      <td>0</td>\n",
       "      <td>2</td>\n",
       "      <td>100.00</td>\n",
       "      <td>0</td>\n",
       "      <td>0</td>\n",
       "      <td>3</td>\n",
       "      <td>31</td>\n",
       "      <td>0</td>\n",
       "      <td>1</td>\n",
       "      <td>1</td>\n",
       "      <td>...</td>\n",
       "      <td>0</td>\n",
       "      <td>918.4</td>\n",
       "      <td>0</td>\n",
       "      <td>0.0</td>\n",
       "      <td>0</td>\n",
       "      <td>0</td>\n",
       "      <td>1721.00</td>\n",
       "      <td>5</td>\n",
       "      <td>0</td>\n",
       "      <td>0.6429</td>\n",
       "    </tr>\n",
       "  </tbody>\n",
       "</table>\n",
       "<p>5 rows × 25 columns</p>\n",
       "</div>"
      ],
      "text/plain": [
       "   assists  boosts  damageDealt  DBNOs  headshotKills  heals  killPlace  \\\n",
       "0        0       0        25.93      0              0      0         84   \n",
       "1        0       0        36.71      0              0      0         57   \n",
       "2        0       1        47.73      0              0      0         50   \n",
       "3        0       0         0.00      0              0      0         56   \n",
       "4        0       2       100.00      0              0      3         31   \n",
       "\n",
       "   killPoints  kills  killStreaks  ...  revives  rideDistance  roadKills  \\\n",
       "0        1437      0            0  ...        0           0.0          0   \n",
       "1        1225      0            0  ...        0           0.0          0   \n",
       "2           0      0            0  ...        0        4088.0          0   \n",
       "3        1286      0            0  ...        1           0.0          0   \n",
       "4           0      1            1  ...        0         918.4          0   \n",
       "\n",
       "   swimDistance  teamKills  vehicleDestroys  walkDistance  weaponsAcquired  \\\n",
       "0           0.0          0                0        151.30                1   \n",
       "1           0.0          0                0       1918.00                7   \n",
       "2           0.0          0                0        820.00                7   \n",
       "3           0.0          0                0         38.81                0   \n",
       "4           0.0          0                0       1721.00                5   \n",
       "\n",
       "   winPoints  winPlacePerc  \n",
       "0       1525        0.0667  \n",
       "1       1516        0.5862  \n",
       "2          0        0.8105  \n",
       "3       1515        0.5556  \n",
       "4          0        0.6429  \n",
       "\n",
       "[5 rows x 25 columns]"
      ]
     },
     "execution_count": 41,
     "metadata": {},
     "output_type": "execute_result"
    }
   ],
   "source": [
    "numerical = df.select_dtypes(include=['int64', 'float64'])\n",
    "numerical.head()"
   ]
  },
  {
   "cell_type": "markdown",
   "metadata": {},
   "source": [
    "#### Data Standardization or Standard Scaler:\n",
    "- In this process, scaling can be performed by transforming the features such that the results have zero mean, and unit standard deviation.\n",
    "- The steps to perform the scaling is to first calculate the mean and standard deviation values for the feature to be scaled. Then for each value, for this feature, subtract the mean value from that value, and divide by the standard deviation.\n",
    "- The transformed feature will end up with a mean value of zero, and standard deviation of one. This effectively removes the units of the features and converts each future value to number of standard deviations away from the mean.\n",
    "- This scaling method is used when the min and max values are known. This is also useful when there are outliers which will skew the calculation for the range as the max value is determined by the furthest outlier. This scaling operation is often referred to as zero-normalization or as standardization."
   ]
  },
  {
   "cell_type": "code",
   "execution_count": 42,
   "metadata": {},
   "outputs": [
    {
     "data": {
      "text/html": [
       "<div>\n",
       "<style scoped>\n",
       "    .dataframe tbody tr th:only-of-type {\n",
       "        vertical-align: middle;\n",
       "    }\n",
       "\n",
       "    .dataframe tbody tr th {\n",
       "        vertical-align: top;\n",
       "    }\n",
       "\n",
       "    .dataframe thead th {\n",
       "        text-align: right;\n",
       "    }\n",
       "</style>\n",
       "<table border=\"1\" class=\"dataframe\">\n",
       "  <thead>\n",
       "    <tr style=\"text-align: right;\">\n",
       "      <th></th>\n",
       "      <th>assists</th>\n",
       "      <th>boosts</th>\n",
       "      <th>damageDealt</th>\n",
       "      <th>DBNOs</th>\n",
       "      <th>headshotKills</th>\n",
       "      <th>heals</th>\n",
       "      <th>killPlace</th>\n",
       "      <th>killPoints</th>\n",
       "      <th>kills</th>\n",
       "      <th>killStreaks</th>\n",
       "      <th>...</th>\n",
       "      <th>revives</th>\n",
       "      <th>rideDistance</th>\n",
       "      <th>roadKills</th>\n",
       "      <th>swimDistance</th>\n",
       "      <th>teamKills</th>\n",
       "      <th>vehicleDestroys</th>\n",
       "      <th>walkDistance</th>\n",
       "      <th>weaponsAcquired</th>\n",
       "      <th>winPoints</th>\n",
       "      <th>winPlacePerc</th>\n",
       "    </tr>\n",
       "  </thead>\n",
       "  <tbody>\n",
       "    <tr>\n",
       "      <th>0</th>\n",
       "      <td>-0.396459</td>\n",
       "      <td>-0.644885</td>\n",
       "      <td>-0.612275</td>\n",
       "      <td>-0.573602</td>\n",
       "      <td>-0.37566</td>\n",
       "      <td>-0.510596</td>\n",
       "      <td>1.325230</td>\n",
       "      <td>1.486403</td>\n",
       "      <td>-0.592434</td>\n",
       "      <td>-0.764270</td>\n",
       "      <td>...</td>\n",
       "      <td>-0.349005</td>\n",
       "      <td>-0.403900</td>\n",
       "      <td>-0.048084</td>\n",
       "      <td>-0.148442</td>\n",
       "      <td>-0.143015</td>\n",
       "      <td>-0.085198</td>\n",
       "      <td>-0.847136</td>\n",
       "      <td>-1.080380</td>\n",
       "      <td>1.243105</td>\n",
       "      <td>-1.321137</td>\n",
       "    </tr>\n",
       "    <tr>\n",
       "      <th>1</th>\n",
       "      <td>-0.396459</td>\n",
       "      <td>-0.644885</td>\n",
       "      <td>-0.549298</td>\n",
       "      <td>-0.573602</td>\n",
       "      <td>-0.37566</td>\n",
       "      <td>-0.510596</td>\n",
       "      <td>0.342348</td>\n",
       "      <td>1.148501</td>\n",
       "      <td>-0.592434</td>\n",
       "      <td>-0.764270</td>\n",
       "      <td>...</td>\n",
       "      <td>-0.349005</td>\n",
       "      <td>-0.403900</td>\n",
       "      <td>-0.048084</td>\n",
       "      <td>-0.148442</td>\n",
       "      <td>-0.143015</td>\n",
       "      <td>-0.085198</td>\n",
       "      <td>0.646539</td>\n",
       "      <td>1.356857</td>\n",
       "      <td>1.230935</td>\n",
       "      <td>0.368971</td>\n",
       "    </tr>\n",
       "    <tr>\n",
       "      <th>2</th>\n",
       "      <td>-0.396459</td>\n",
       "      <td>-0.062152</td>\n",
       "      <td>-0.484920</td>\n",
       "      <td>-0.573602</td>\n",
       "      <td>-0.37566</td>\n",
       "      <td>-0.510596</td>\n",
       "      <td>0.087527</td>\n",
       "      <td>-0.804000</td>\n",
       "      <td>-0.592434</td>\n",
       "      <td>-0.764270</td>\n",
       "      <td>...</td>\n",
       "      <td>-0.349005</td>\n",
       "      <td>2.328813</td>\n",
       "      <td>-0.048084</td>\n",
       "      <td>-0.148442</td>\n",
       "      <td>-0.143015</td>\n",
       "      <td>-0.085198</td>\n",
       "      <td>-0.281777</td>\n",
       "      <td>1.356857</td>\n",
       "      <td>-0.819061</td>\n",
       "      <td>1.098694</td>\n",
       "    </tr>\n",
       "    <tr>\n",
       "      <th>3</th>\n",
       "      <td>-0.396459</td>\n",
       "      <td>-0.644885</td>\n",
       "      <td>-0.763757</td>\n",
       "      <td>-0.573602</td>\n",
       "      <td>-0.37566</td>\n",
       "      <td>-0.510596</td>\n",
       "      <td>0.305945</td>\n",
       "      <td>1.245728</td>\n",
       "      <td>-0.592434</td>\n",
       "      <td>-0.764270</td>\n",
       "      <td>...</td>\n",
       "      <td>1.776761</td>\n",
       "      <td>-0.403900</td>\n",
       "      <td>-0.048084</td>\n",
       "      <td>-0.148442</td>\n",
       "      <td>-0.143015</td>\n",
       "      <td>-0.085198</td>\n",
       "      <td>-0.942242</td>\n",
       "      <td>-1.486587</td>\n",
       "      <td>1.229583</td>\n",
       "      <td>0.269419</td>\n",
       "    </tr>\n",
       "    <tr>\n",
       "      <th>4</th>\n",
       "      <td>-0.396459</td>\n",
       "      <td>0.520582</td>\n",
       "      <td>-0.179561</td>\n",
       "      <td>-0.573602</td>\n",
       "      <td>-0.37566</td>\n",
       "      <td>0.607214</td>\n",
       "      <td>-0.604131</td>\n",
       "      <td>-0.804000</td>\n",
       "      <td>0.047682</td>\n",
       "      <td>0.638446</td>\n",
       "      <td>...</td>\n",
       "      <td>-0.349005</td>\n",
       "      <td>0.210024</td>\n",
       "      <td>-0.048084</td>\n",
       "      <td>-0.148442</td>\n",
       "      <td>-0.143015</td>\n",
       "      <td>-0.085198</td>\n",
       "      <td>0.479983</td>\n",
       "      <td>0.544445</td>\n",
       "      <td>-0.819061</td>\n",
       "      <td>0.553435</td>\n",
       "    </tr>\n",
       "  </tbody>\n",
       "</table>\n",
       "<p>5 rows × 25 columns</p>\n",
       "</div>"
      ],
      "text/plain": [
       "    assists    boosts  damageDealt     DBNOs  headshotKills     heals  \\\n",
       "0 -0.396459 -0.644885    -0.612275 -0.573602       -0.37566 -0.510596   \n",
       "1 -0.396459 -0.644885    -0.549298 -0.573602       -0.37566 -0.510596   \n",
       "2 -0.396459 -0.062152    -0.484920 -0.573602       -0.37566 -0.510596   \n",
       "3 -0.396459 -0.644885    -0.763757 -0.573602       -0.37566 -0.510596   \n",
       "4 -0.396459  0.520582    -0.179561 -0.573602       -0.37566  0.607214   \n",
       "\n",
       "   killPlace  killPoints     kills  killStreaks  ...   revives  rideDistance  \\\n",
       "0   1.325230    1.486403 -0.592434    -0.764270  ... -0.349005     -0.403900   \n",
       "1   0.342348    1.148501 -0.592434    -0.764270  ... -0.349005     -0.403900   \n",
       "2   0.087527   -0.804000 -0.592434    -0.764270  ... -0.349005      2.328813   \n",
       "3   0.305945    1.245728 -0.592434    -0.764270  ...  1.776761     -0.403900   \n",
       "4  -0.604131   -0.804000  0.047682     0.638446  ... -0.349005      0.210024   \n",
       "\n",
       "   roadKills  swimDistance  teamKills  vehicleDestroys  walkDistance  \\\n",
       "0  -0.048084     -0.148442  -0.143015        -0.085198     -0.847136   \n",
       "1  -0.048084     -0.148442  -0.143015        -0.085198      0.646539   \n",
       "2  -0.048084     -0.148442  -0.143015        -0.085198     -0.281777   \n",
       "3  -0.048084     -0.148442  -0.143015        -0.085198     -0.942242   \n",
       "4  -0.048084     -0.148442  -0.143015        -0.085198      0.479983   \n",
       "\n",
       "   weaponsAcquired  winPoints  winPlacePerc  \n",
       "0        -1.080380   1.243105     -1.321137  \n",
       "1         1.356857   1.230935      0.368971  \n",
       "2         1.356857  -0.819061      1.098694  \n",
       "3        -1.486587   1.229583      0.269419  \n",
       "4         0.544445  -0.819061      0.553435  \n",
       "\n",
       "[5 rows x 25 columns]"
      ]
     },
     "execution_count": 42,
     "metadata": {},
     "output_type": "execute_result"
    }
   ],
   "source": [
    "# scaling the numerical features\n",
    "from sklearn.preprocessing import StandardScaler\n",
    "\n",
    "scaler = StandardScaler()\n",
    "df_num = pd.DataFrame(scaler.fit_transform(numerical), \n",
    "                      columns = numerical.columns)\n",
    "df_num.head()"
   ]
  },
  {
   "cell_type": "markdown",
   "metadata": {},
   "source": [
    "- For Categorical -> if more than 2 categories, use dummy variables. Otherwise \n",
    "convert the feature to Binary."
   ]
  },
  {
   "cell_type": "markdown",
   "metadata": {},
   "source": [
    "#### One Hot Encoding\n",
    "- One hot encoding is a process by which categorical variables are converted into a form that could be provided to ML algorithms to do a better job in prediction. The categorical value represents the numerical value of the entry in the dataset.\n",
    "- With one-hot, we convert each categorical value into a new categorical column and assign a binary value of 1 or 0 to those columns. Each integer value is represented as a binary vector. 0 indicates non existent while 1 indicates existent."
   ]
  },
  {
   "cell_type": "code",
   "execution_count": 43,
   "metadata": {},
   "outputs": [
    {
     "data": {
      "text/html": [
       "<div>\n",
       "<style scoped>\n",
       "    .dataframe tbody tr th:only-of-type {\n",
       "        vertical-align: middle;\n",
       "    }\n",
       "\n",
       "    .dataframe tbody tr th {\n",
       "        vertical-align: top;\n",
       "    }\n",
       "\n",
       "    .dataframe thead th {\n",
       "        text-align: right;\n",
       "    }\n",
       "</style>\n",
       "<table border=\"1\" class=\"dataframe\">\n",
       "  <thead>\n",
       "    <tr style=\"text-align: right;\">\n",
       "      <th></th>\n",
       "      <th>matchType</th>\n",
       "    </tr>\n",
       "  </thead>\n",
       "  <tbody>\n",
       "    <tr>\n",
       "      <th>0</th>\n",
       "      <td>squad-fpp</td>\n",
       "    </tr>\n",
       "    <tr>\n",
       "      <th>1</th>\n",
       "      <td>squad-fpp</td>\n",
       "    </tr>\n",
       "    <tr>\n",
       "      <th>2</th>\n",
       "      <td>solo-fpp</td>\n",
       "    </tr>\n",
       "    <tr>\n",
       "      <th>3</th>\n",
       "      <td>squad-fpp</td>\n",
       "    </tr>\n",
       "    <tr>\n",
       "      <th>4</th>\n",
       "      <td>solo</td>\n",
       "    </tr>\n",
       "  </tbody>\n",
       "</table>\n",
       "</div>"
      ],
      "text/plain": [
       "   matchType\n",
       "0  squad-fpp\n",
       "1  squad-fpp\n",
       "2   solo-fpp\n",
       "3  squad-fpp\n",
       "4       solo"
      ]
     },
     "execution_count": 43,
     "metadata": {},
     "output_type": "execute_result"
    }
   ],
   "source": [
    "categorical_data = df.select_dtypes(include=['object'])\n",
    "categorical_data.head()"
   ]
  },
  {
   "cell_type": "code",
   "execution_count": 44,
   "metadata": {},
   "outputs": [
    {
     "data": {
      "text/html": [
       "<div>\n",
       "<style scoped>\n",
       "    .dataframe tbody tr th:only-of-type {\n",
       "        vertical-align: middle;\n",
       "    }\n",
       "\n",
       "    .dataframe tbody tr th {\n",
       "        vertical-align: top;\n",
       "    }\n",
       "\n",
       "    .dataframe thead th {\n",
       "        text-align: right;\n",
       "    }\n",
       "</style>\n",
       "<table border=\"1\" class=\"dataframe\">\n",
       "  <thead>\n",
       "    <tr style=\"text-align: right;\">\n",
       "      <th></th>\n",
       "      <th>matchType_crashtpp</th>\n",
       "      <th>matchType_duo</th>\n",
       "      <th>matchType_duo-fpp</th>\n",
       "      <th>matchType_flarefpp</th>\n",
       "      <th>matchType_flaretpp</th>\n",
       "      <th>matchType_normal-duo</th>\n",
       "      <th>matchType_normal-duo-fpp</th>\n",
       "      <th>matchType_normal-solo</th>\n",
       "      <th>matchType_normal-solo-fpp</th>\n",
       "      <th>matchType_normal-squad</th>\n",
       "      <th>matchType_normal-squad-fpp</th>\n",
       "      <th>matchType_solo</th>\n",
       "      <th>matchType_solo-fpp</th>\n",
       "      <th>matchType_squad</th>\n",
       "      <th>matchType_squad-fpp</th>\n",
       "    </tr>\n",
       "  </thead>\n",
       "  <tbody>\n",
       "    <tr>\n",
       "      <th>0</th>\n",
       "      <td>0.0</td>\n",
       "      <td>0.0</td>\n",
       "      <td>0.0</td>\n",
       "      <td>0.0</td>\n",
       "      <td>0.0</td>\n",
       "      <td>0.0</td>\n",
       "      <td>0.0</td>\n",
       "      <td>0.0</td>\n",
       "      <td>0.0</td>\n",
       "      <td>0.0</td>\n",
       "      <td>0.0</td>\n",
       "      <td>0.0</td>\n",
       "      <td>0.0</td>\n",
       "      <td>0.0</td>\n",
       "      <td>1.0</td>\n",
       "    </tr>\n",
       "    <tr>\n",
       "      <th>1</th>\n",
       "      <td>0.0</td>\n",
       "      <td>0.0</td>\n",
       "      <td>0.0</td>\n",
       "      <td>0.0</td>\n",
       "      <td>0.0</td>\n",
       "      <td>0.0</td>\n",
       "      <td>0.0</td>\n",
       "      <td>0.0</td>\n",
       "      <td>0.0</td>\n",
       "      <td>0.0</td>\n",
       "      <td>0.0</td>\n",
       "      <td>0.0</td>\n",
       "      <td>0.0</td>\n",
       "      <td>0.0</td>\n",
       "      <td>1.0</td>\n",
       "    </tr>\n",
       "    <tr>\n",
       "      <th>2</th>\n",
       "      <td>0.0</td>\n",
       "      <td>0.0</td>\n",
       "      <td>0.0</td>\n",
       "      <td>0.0</td>\n",
       "      <td>0.0</td>\n",
       "      <td>0.0</td>\n",
       "      <td>0.0</td>\n",
       "      <td>0.0</td>\n",
       "      <td>0.0</td>\n",
       "      <td>0.0</td>\n",
       "      <td>0.0</td>\n",
       "      <td>0.0</td>\n",
       "      <td>1.0</td>\n",
       "      <td>0.0</td>\n",
       "      <td>0.0</td>\n",
       "    </tr>\n",
       "    <tr>\n",
       "      <th>3</th>\n",
       "      <td>0.0</td>\n",
       "      <td>0.0</td>\n",
       "      <td>0.0</td>\n",
       "      <td>0.0</td>\n",
       "      <td>0.0</td>\n",
       "      <td>0.0</td>\n",
       "      <td>0.0</td>\n",
       "      <td>0.0</td>\n",
       "      <td>0.0</td>\n",
       "      <td>0.0</td>\n",
       "      <td>0.0</td>\n",
       "      <td>0.0</td>\n",
       "      <td>0.0</td>\n",
       "      <td>0.0</td>\n",
       "      <td>1.0</td>\n",
       "    </tr>\n",
       "    <tr>\n",
       "      <th>4</th>\n",
       "      <td>0.0</td>\n",
       "      <td>0.0</td>\n",
       "      <td>0.0</td>\n",
       "      <td>0.0</td>\n",
       "      <td>0.0</td>\n",
       "      <td>0.0</td>\n",
       "      <td>0.0</td>\n",
       "      <td>0.0</td>\n",
       "      <td>0.0</td>\n",
       "      <td>0.0</td>\n",
       "      <td>0.0</td>\n",
       "      <td>1.0</td>\n",
       "      <td>0.0</td>\n",
       "      <td>0.0</td>\n",
       "      <td>0.0</td>\n",
       "    </tr>\n",
       "  </tbody>\n",
       "</table>\n",
       "</div>"
      ],
      "text/plain": [
       "   matchType_crashtpp  matchType_duo  matchType_duo-fpp  matchType_flarefpp  \\\n",
       "0                 0.0            0.0                0.0                 0.0   \n",
       "1                 0.0            0.0                0.0                 0.0   \n",
       "2                 0.0            0.0                0.0                 0.0   \n",
       "3                 0.0            0.0                0.0                 0.0   \n",
       "4                 0.0            0.0                0.0                 0.0   \n",
       "\n",
       "   matchType_flaretpp  matchType_normal-duo  matchType_normal-duo-fpp  \\\n",
       "0                 0.0                   0.0                       0.0   \n",
       "1                 0.0                   0.0                       0.0   \n",
       "2                 0.0                   0.0                       0.0   \n",
       "3                 0.0                   0.0                       0.0   \n",
       "4                 0.0                   0.0                       0.0   \n",
       "\n",
       "   matchType_normal-solo  matchType_normal-solo-fpp  matchType_normal-squad  \\\n",
       "0                    0.0                        0.0                     0.0   \n",
       "1                    0.0                        0.0                     0.0   \n",
       "2                    0.0                        0.0                     0.0   \n",
       "3                    0.0                        0.0                     0.0   \n",
       "4                    0.0                        0.0                     0.0   \n",
       "\n",
       "   matchType_normal-squad-fpp  matchType_solo  matchType_solo-fpp  \\\n",
       "0                         0.0             0.0                 0.0   \n",
       "1                         0.0             0.0                 0.0   \n",
       "2                         0.0             0.0                 1.0   \n",
       "3                         0.0             0.0                 0.0   \n",
       "4                         0.0             1.0                 0.0   \n",
       "\n",
       "   matchType_squad  matchType_squad-fpp  \n",
       "0              0.0                  1.0  \n",
       "1              0.0                  1.0  \n",
       "2              0.0                  0.0  \n",
       "3              0.0                  1.0  \n",
       "4              0.0                  0.0  "
      ]
     },
     "execution_count": 44,
     "metadata": {},
     "output_type": "execute_result"
    }
   ],
   "source": [
    "# Encoding the categorical features\n",
    "\n",
    "from sklearn.preprocessing import OneHotEncoder\n",
    "\n",
    "encoder = OneHotEncoder(drop='first', sparse=False)\n",
    "\n",
    "# column names are (annoyingly) lost after OneHotEncoding\n",
    "# (i.e. the dataframe is converted to a numpy ndarray)\n",
    "\n",
    "df_cat = pd.DataFrame(encoder.fit_transform(categorical_data), \n",
    "                      columns=encoder.get_feature_names(categorical_data.columns))\n",
    "\n",
    "df_cat.head()"
   ]
  },
  {
   "cell_type": "code",
   "execution_count": 45,
   "metadata": {},
   "outputs": [
    {
     "data": {
      "text/html": [
       "<div>\n",
       "<style scoped>\n",
       "    .dataframe tbody tr th:only-of-type {\n",
       "        vertical-align: middle;\n",
       "    }\n",
       "\n",
       "    .dataframe tbody tr th {\n",
       "        vertical-align: top;\n",
       "    }\n",
       "\n",
       "    .dataframe thead th {\n",
       "        text-align: right;\n",
       "    }\n",
       "</style>\n",
       "<table border=\"1\" class=\"dataframe\">\n",
       "  <thead>\n",
       "    <tr style=\"text-align: right;\">\n",
       "      <th></th>\n",
       "      <th>assists</th>\n",
       "      <th>boosts</th>\n",
       "      <th>damageDealt</th>\n",
       "      <th>DBNOs</th>\n",
       "      <th>headshotKills</th>\n",
       "      <th>heals</th>\n",
       "      <th>killPlace</th>\n",
       "      <th>killPoints</th>\n",
       "      <th>kills</th>\n",
       "      <th>killStreaks</th>\n",
       "      <th>...</th>\n",
       "      <th>matchType_normal-duo</th>\n",
       "      <th>matchType_normal-duo-fpp</th>\n",
       "      <th>matchType_normal-solo</th>\n",
       "      <th>matchType_normal-solo-fpp</th>\n",
       "      <th>matchType_normal-squad</th>\n",
       "      <th>matchType_normal-squad-fpp</th>\n",
       "      <th>matchType_solo</th>\n",
       "      <th>matchType_solo-fpp</th>\n",
       "      <th>matchType_squad</th>\n",
       "      <th>matchType_squad-fpp</th>\n",
       "    </tr>\n",
       "  </thead>\n",
       "  <tbody>\n",
       "    <tr>\n",
       "      <th>0</th>\n",
       "      <td>-0.396459</td>\n",
       "      <td>-0.644885</td>\n",
       "      <td>-0.612275</td>\n",
       "      <td>-0.573602</td>\n",
       "      <td>-0.37566</td>\n",
       "      <td>-0.510596</td>\n",
       "      <td>1.325230</td>\n",
       "      <td>1.486403</td>\n",
       "      <td>-0.592434</td>\n",
       "      <td>-0.764270</td>\n",
       "      <td>...</td>\n",
       "      <td>0.0</td>\n",
       "      <td>0.0</td>\n",
       "      <td>0.0</td>\n",
       "      <td>0.0</td>\n",
       "      <td>0.0</td>\n",
       "      <td>0.0</td>\n",
       "      <td>0.0</td>\n",
       "      <td>0.0</td>\n",
       "      <td>0.0</td>\n",
       "      <td>1.0</td>\n",
       "    </tr>\n",
       "    <tr>\n",
       "      <th>1</th>\n",
       "      <td>-0.396459</td>\n",
       "      <td>-0.644885</td>\n",
       "      <td>-0.549298</td>\n",
       "      <td>-0.573602</td>\n",
       "      <td>-0.37566</td>\n",
       "      <td>-0.510596</td>\n",
       "      <td>0.342348</td>\n",
       "      <td>1.148501</td>\n",
       "      <td>-0.592434</td>\n",
       "      <td>-0.764270</td>\n",
       "      <td>...</td>\n",
       "      <td>0.0</td>\n",
       "      <td>0.0</td>\n",
       "      <td>0.0</td>\n",
       "      <td>0.0</td>\n",
       "      <td>0.0</td>\n",
       "      <td>0.0</td>\n",
       "      <td>0.0</td>\n",
       "      <td>0.0</td>\n",
       "      <td>0.0</td>\n",
       "      <td>1.0</td>\n",
       "    </tr>\n",
       "    <tr>\n",
       "      <th>2</th>\n",
       "      <td>-0.396459</td>\n",
       "      <td>-0.062152</td>\n",
       "      <td>-0.484920</td>\n",
       "      <td>-0.573602</td>\n",
       "      <td>-0.37566</td>\n",
       "      <td>-0.510596</td>\n",
       "      <td>0.087527</td>\n",
       "      <td>-0.804000</td>\n",
       "      <td>-0.592434</td>\n",
       "      <td>-0.764270</td>\n",
       "      <td>...</td>\n",
       "      <td>0.0</td>\n",
       "      <td>0.0</td>\n",
       "      <td>0.0</td>\n",
       "      <td>0.0</td>\n",
       "      <td>0.0</td>\n",
       "      <td>0.0</td>\n",
       "      <td>0.0</td>\n",
       "      <td>1.0</td>\n",
       "      <td>0.0</td>\n",
       "      <td>0.0</td>\n",
       "    </tr>\n",
       "    <tr>\n",
       "      <th>3</th>\n",
       "      <td>-0.396459</td>\n",
       "      <td>-0.644885</td>\n",
       "      <td>-0.763757</td>\n",
       "      <td>-0.573602</td>\n",
       "      <td>-0.37566</td>\n",
       "      <td>-0.510596</td>\n",
       "      <td>0.305945</td>\n",
       "      <td>1.245728</td>\n",
       "      <td>-0.592434</td>\n",
       "      <td>-0.764270</td>\n",
       "      <td>...</td>\n",
       "      <td>0.0</td>\n",
       "      <td>0.0</td>\n",
       "      <td>0.0</td>\n",
       "      <td>0.0</td>\n",
       "      <td>0.0</td>\n",
       "      <td>0.0</td>\n",
       "      <td>0.0</td>\n",
       "      <td>0.0</td>\n",
       "      <td>0.0</td>\n",
       "      <td>1.0</td>\n",
       "    </tr>\n",
       "    <tr>\n",
       "      <th>4</th>\n",
       "      <td>-0.396459</td>\n",
       "      <td>0.520582</td>\n",
       "      <td>-0.179561</td>\n",
       "      <td>-0.573602</td>\n",
       "      <td>-0.37566</td>\n",
       "      <td>0.607214</td>\n",
       "      <td>-0.604131</td>\n",
       "      <td>-0.804000</td>\n",
       "      <td>0.047682</td>\n",
       "      <td>0.638446</td>\n",
       "      <td>...</td>\n",
       "      <td>0.0</td>\n",
       "      <td>0.0</td>\n",
       "      <td>0.0</td>\n",
       "      <td>0.0</td>\n",
       "      <td>0.0</td>\n",
       "      <td>0.0</td>\n",
       "      <td>1.0</td>\n",
       "      <td>0.0</td>\n",
       "      <td>0.0</td>\n",
       "      <td>0.0</td>\n",
       "    </tr>\n",
       "  </tbody>\n",
       "</table>\n",
       "<p>5 rows × 40 columns</p>\n",
       "</div>"
      ],
      "text/plain": [
       "    assists    boosts  damageDealt     DBNOs  headshotKills     heals  \\\n",
       "0 -0.396459 -0.644885    -0.612275 -0.573602       -0.37566 -0.510596   \n",
       "1 -0.396459 -0.644885    -0.549298 -0.573602       -0.37566 -0.510596   \n",
       "2 -0.396459 -0.062152    -0.484920 -0.573602       -0.37566 -0.510596   \n",
       "3 -0.396459 -0.644885    -0.763757 -0.573602       -0.37566 -0.510596   \n",
       "4 -0.396459  0.520582    -0.179561 -0.573602       -0.37566  0.607214   \n",
       "\n",
       "   killPlace  killPoints     kills  killStreaks  ...  matchType_normal-duo  \\\n",
       "0   1.325230    1.486403 -0.592434    -0.764270  ...                   0.0   \n",
       "1   0.342348    1.148501 -0.592434    -0.764270  ...                   0.0   \n",
       "2   0.087527   -0.804000 -0.592434    -0.764270  ...                   0.0   \n",
       "3   0.305945    1.245728 -0.592434    -0.764270  ...                   0.0   \n",
       "4  -0.604131   -0.804000  0.047682     0.638446  ...                   0.0   \n",
       "\n",
       "   matchType_normal-duo-fpp  matchType_normal-solo  matchType_normal-solo-fpp  \\\n",
       "0                       0.0                    0.0                        0.0   \n",
       "1                       0.0                    0.0                        0.0   \n",
       "2                       0.0                    0.0                        0.0   \n",
       "3                       0.0                    0.0                        0.0   \n",
       "4                       0.0                    0.0                        0.0   \n",
       "\n",
       "   matchType_normal-squad  matchType_normal-squad-fpp  matchType_solo  \\\n",
       "0                     0.0                         0.0             0.0   \n",
       "1                     0.0                         0.0             0.0   \n",
       "2                     0.0                         0.0             0.0   \n",
       "3                     0.0                         0.0             0.0   \n",
       "4                     0.0                         0.0             1.0   \n",
       "\n",
       "   matchType_solo-fpp  matchType_squad  matchType_squad-fpp  \n",
       "0                 0.0              0.0                  1.0  \n",
       "1                 0.0              0.0                  1.0  \n",
       "2                 1.0              0.0                  0.0  \n",
       "3                 0.0              0.0                  1.0  \n",
       "4                 0.0              0.0                  0.0  \n",
       "\n",
       "[5 rows x 40 columns]"
      ]
     },
     "execution_count": 45,
     "metadata": {},
     "output_type": "execute_result"
    }
   ],
   "source": [
    "pubg = pd.concat([df_num, df_cat], axis=1)\n",
    "pubg.head()"
   ]
  },
  {
   "cell_type": "markdown",
   "metadata": {},
   "source": [
    "### Step9 - Conclusion  \n",
    "- From Data Analysis we concluded the following statements:\n",
    "- As we all know that assists in PUBG means number of enemy players this player damaged that were killed by teammates. By this distribution we can say that most of them did not damaged the players that were killed by teammates.\n",
    "- From barplot regarding boosts, we can say that most of them have not used boosts items.\n",
    "- From barplot, we can say that most of them have damagedealt as zero as self inflicted damage is subtracted.\n",
    "- From barplot, we can say that most of them have DBNOs(Number of enemy players knocked) as zero.\n",
    "- From barplot, we can say that most of them have headshotkills as zero.\n",
    "- From barplot, we can say that most of them used healing items as zero.\n",
    "- From barplot for killplace, we can say that most of them used `4,6,7,17 and 36`.\n",
    "- From barplot for killpoints, we can say that most of them have no killpoints.\n",
    "- From barplot for killstreaks, we can say that most of them have no killstreaks.\n",
    "- From barplot for kills, we can say that most of them have not killed any players.\n",
    "- From barplot for longestkill, we can say that most of them have distance as 0.\n",
    "- From barplot, we can say that most of the matches have played in the duration of `1384,1374,1376,1381,1377` seconds.\n",
    "- From barplot, we can say that most of them have not destroyed any vehicles.\n",
    "- From the pivot table we can see that how the match duration is not an important criteria for kills and for any column. \n",
    "- From the barplot, we can say that most of the revives are taken for match duration above 1750 for revives numbers of 9 and 14.\n",
    "- From the barplot we can say that most of the points have happenend to be in the game of normal-duo and normal-duo-fpp.\n",
    "- From Q-Q plot of all the columns, we can see a lot of discrepency which helps us to detect the outliers.\n",
    "- From Hypothesis Testing using t-test and p-value, the result is it is failing to reject the Null Hypothesis.\n",
    "- As the objective is to create a model which predicts players' finishing placement based on their final stats, on a scale from 1 (first place) to 0 (last place), I have used feature Transformation Techniques. For Numerical Features, I have used column standardization technique and for categorical columns, I considered one hot encoding."
   ]
  }
 ],
 "metadata": {
  "kernelspec": {
   "display_name": "Python 3",
   "language": "python",
   "name": "python3"
  },
  "language_info": {
   "codemirror_mode": {
    "name": "ipython",
    "version": 3
   },
   "file_extension": ".py",
   "mimetype": "text/x-python",
   "name": "python",
   "nbconvert_exporter": "python",
   "pygments_lexer": "ipython3",
   "version": "3.8.5"
  }
 },
 "nbformat": 4,
 "nbformat_minor": 4
}
